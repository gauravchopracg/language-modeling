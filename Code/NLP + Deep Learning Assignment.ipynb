{
  "nbformat": 4,
  "nbformat_minor": 0,
  "metadata": {
    "colab": {
      "name": "nlp task.ipynb",
      "provenance": [],
      "collapsed_sections": []
    },
    "kernelspec": {
      "name": "python3",
      "display_name": "Python 3"
    }
  },
  "cells": [
    {
      "cell_type": "markdown",
      "metadata": {
        "id": "9ju44qI2rPF2",
        "colab_type": "text"
      },
      "source": [
        "Language modeling:\n",
        "===\n",
        "The aim of this notebook is to illustrate how to create and train a neural network to predict the next word in a sequence (i.e. sequence of words), based on the preceding words in the sequence.\n",
        "\n",
        "Before jumping into it, let's take a minute to try to understand the task.\n",
        "\n",
        "Language modeling is the task of assigning a probability to sentences in a language. Besides assigning a probability to each sequence of words, the language models also assigns a probability for the likelihood of a given word (or a sequence of words)\n",
        "\n",
        "  --<strong data-cite=\"goldberg2017\">(Neural Network Methods in Natural Language Processing, 2017)</strong>\n",
        "\n",
        "In other words, A language model learns the probability of word occurence based on examples of text and we can use it to predict the word with highest probability occuring in a sequence.\n",
        "\n",
        "The process of building our language model will be as follows:\n",
        "  * Pre-process our data (Data Preprocessing)\n",
        "    * Convert to lowercase\n",
        "    * Remove all the special characters\n",
        "    * Remove all the numbers from text\n",
        "  * Tokenization\n",
        "    * Sentence tokenization\n",
        "    * Remove extra spaces (leading and trailing)\n",
        "  * Model Training\n",
        "    * Choose an sequence model\n",
        "    * Architecture and layers explanation\n",
        "  * Optimize Hyperparameters\n",
        "    * Epochs, Batch Size, Layers\n",
        "    * Sample sentence prediction"
      ]
    },
    {
      "cell_type": "markdown",
      "metadata": {
        "id": "6MPd0KghrvHF",
        "colab_type": "text"
      },
      "source": [
        "**Note: if you are running this notebook in Google Colaboratory, you have to download the dataset**"
      ]
    },
    {
      "cell_type": "markdown",
      "metadata": {
        "id": "LegRfTFwnD_M",
        "colab_type": "text"
      },
      "source": [
        "Data Download:\n",
        "---"
      ]
    },
    {
      "cell_type": "code",
      "metadata": {
        "id": "BnwnKh23GZ1L",
        "colab_type": "code",
        "colab": {}
      },
      "source": [
        "!wget --header=\"Host: doc-0c-a0-docs.googleusercontent.com\" --header=\"User-Agent: Mozilla/5.0 (Windows NT 10.0; Win64; x64) AppleWebKit/537.36 (KHTML, like Gecko) Chrome/81.0.4044.138 Safari/537.36\" --header=\"Accept: text/html,application/xhtml+xml,application/xml;q=0.9,image/webp,image/apng,*/*;q=0.8,application/signed-exchange;v=b3;q=0.9\" --header=\"Accept-Language: en-US,en;q=0.9\" --header=\"Referer: https://drive.google.com/\" --header=\"Cookie: AUTH_h2usbqe61t3p2javmc9f8vev3k7aj2re_nonce=rv89lnfuogggo; NID=202=LrP4uDlw-tpJIrOsSSVGjEUAYFBvMgE7pYsHllDi2RvAiohnhILxLsaostbt-xc33InPBNV05z_jAtAw4Km239HIJCcIFMoWS8Yh1FmMW-xpd8qowQuNbmhfho6LYG4h7_JheMnumByEDYwFL3O_tCzX30sFKeeVfNE_XxYUTwM\" --header=\"Connection: keep-alive\" \"https://doc-0c-a0-docs.googleusercontent.com/docs/securesc/035r11cge54f61vkg6q5351jddbf1r9g/92vd5ui5rkhiaht1ni81ku7c5im9pupf/1589041350000/09367493494736841528/09663297046543970124/1RviYV0UP6OhPzBeLePetR05D4us3W0eU?e=download&authuser=0&nonce=rv89lnfuogggo&user=09663297046543970124&hash=d597e24ctku7b8q1qlnh4betiqcfll96\" -c -O 'corpus.txt'"
      ],
      "execution_count": 0,
      "outputs": []
    },
    {
      "cell_type": "code",
      "metadata": {
        "id": "g9SB5zAlP92_",
        "colab_type": "code",
        "colab": {
          "base_uri": "https://localhost:8080/",
          "height": 34
        },
        "outputId": "ec3425ae-a230-44db-a88f-9ecdc2d186f1"
      },
      "source": [
        "# check if file is downloaded successfully\n",
        "!ls"
      ],
      "execution_count": 1,
      "outputs": [
        {
          "output_type": "stream",
          "text": [
            "char_sequences.txt  corpus.txt\tmapping.pkl  model.h5  sample_data\n"
          ],
          "name": "stdout"
        }
      ]
    },
    {
      "cell_type": "markdown",
      "metadata": {
        "id": "vxTv0OWjnNj5",
        "colab_type": "text"
      },
      "source": [
        "Read text file:\n",
        "---"
      ]
    },
    {
      "cell_type": "code",
      "metadata": {
        "id": "PGslwZW8nQo3",
        "colab_type": "code",
        "colab": {
          "base_uri": "https://localhost:8080/",
          "height": 170
        },
        "outputId": "4fd6a690-fbaa-404e-c2e2-a71daaa0f874"
      },
      "source": [
        "file_name = 'corpus.txt' # specify file name\n",
        "file = open(file_name, 'r') # open file in read mode\n",
        "corpus = file.read() # read file\n",
        "file.close() # close the file\n",
        "# check the file is read correctly\n",
        "print(corpus[:600])"
      ],
      "execution_count": 2,
      "outputs": [
        {
          "output_type": "stream",
          "text": [
            "One winter's evening, towards the close of the year 1800, or within a year\n",
            "or two of that time, a young medical practitioner, recently established in\n",
            "business, was seated by a cheerful fire in his little parlour, listening to the\n",
            "wind which was beating the rain in pattering drops against the window, or\n",
            "rumbling dismally in the chimney. The night was wet and cold; he had\n",
            "been walking through mud and water the whole day, and was now\n",
            "comfortably reposing in his dressing-gown and slippers, more than half\n",
            "asleep and less than half awake, revolving a thousand matters in his\n",
            "wandering imagination. Fi\n"
          ],
          "name": "stdout"
        }
      ]
    },
    {
      "cell_type": "markdown",
      "metadata": {
        "id": "KBzr2Td2r9iM",
        "colab_type": "text"
      },
      "source": [
        "Data Preprocessing:\n",
        "---\n",
        "As we can see, our text consist of both capital and small words (e.g. \"One\", \"one\"), **numbers** (e.g. year like \"1800\"), **punctuation** (e.g. \",\", \".\", \";\", \"--\"), **some long monologues that go on for hundreds of lines**, etc.\n",
        "\n",
        "These observations, suggest that we need to pre-process the text data to let the model know similarity of word and makes it easier for our model to learn their representation.\n",
        "\n",
        "Firstly, we will **lowercase** the entire text, this way we won't have to worry about **case sensitivity** of text. \n",
        "\n",
        "After that, we will **remove special character** (e.g. \"--\", \".\") using regex since, they don't add any meaning to the text. A RegEx or **Regular Expression is a sequence of characters that define a search pattern**. We will be using RegEx module python built-in package re and filter only useful text.\n",
        "\n",
        "Similarly, we will remove numeric characters from our text."
      ]
    },
    {
      "cell_type": "code",
      "metadata": {
        "id": "PQSNYPD8ngFD",
        "colab_type": "code",
        "colab": {
          "base_uri": "https://localhost:8080/",
          "height": 68
        },
        "outputId": "97cfff3b-1921-4c20-b493-9b14d76aa325"
      },
      "source": [
        "# lowercasing:\n",
        "corpus = corpus.lower()\n",
        "print(corpus[:150])"
      ],
      "execution_count": 3,
      "outputs": [
        {
          "output_type": "stream",
          "text": [
            "one winter's evening, towards the close of the year 1800, or within a year\n",
            "or two of that time, a young medical practitioner, recently established in\n",
            "\n"
          ],
          "name": "stdout"
        }
      ]
    },
    {
      "cell_type": "code",
      "metadata": {
        "id": "PzvFw3lVnm-p",
        "colab_type": "code",
        "colab": {
          "base_uri": "https://localhost:8080/",
          "height": 170
        },
        "outputId": "065e0da5-9652-4346-ba90-93b941e6ee50"
      },
      "source": [
        "# Python re module provides regular expression matching operation\n",
        "import re\n",
        "\n",
        "# filtering all the non-words characters\n",
        "pattern = r'[^a-zA-z0-9\\s]'\n",
        "# re.sub function to replace the matches for a pattern with a replacement string\n",
        "corpus = re.sub(pattern, '', corpus)\n",
        "\n",
        "print(corpus[:600])"
      ],
      "execution_count": 4,
      "outputs": [
        {
          "output_type": "stream",
          "text": [
            "one winters evening towards the close of the year 1800 or within a year\n",
            "or two of that time a young medical practitioner recently established in\n",
            "business was seated by a cheerful fire in his little parlour listening to the\n",
            "wind which was beating the rain in pattering drops against the window or\n",
            "rumbling dismally in the chimney the night was wet and cold he had\n",
            "been walking through mud and water the whole day and was now\n",
            "comfortably reposing in his dressinggown and slippers more than half\n",
            "asleep and less than half awake revolving a thousand matters in his\n",
            "wandering imagination first he thought \n"
          ],
          "name": "stdout"
        }
      ]
    },
    {
      "cell_type": "code",
      "metadata": {
        "id": "8BrCaeQSntjA",
        "colab_type": "code",
        "colab": {
          "base_uri": "https://localhost:8080/",
          "height": 68
        },
        "outputId": "ea2c8ef5-da62-41a4-f9dd-bcd2e9034c83"
      },
      "source": [
        "# similarly, filter non-numeric characters\n",
        "pattern = r'[^a-zA-z\\s]'\n",
        "corpus = re.sub(pattern, '', corpus)\n",
        "\n",
        "print(corpus[:150])"
      ],
      "execution_count": 5,
      "outputs": [
        {
          "output_type": "stream",
          "text": [
            "one winters evening towards the close of the year  or within a year\n",
            "or two of that time a young medical practitioner recently established in\n",
            "business \n"
          ],
          "name": "stdout"
        }
      ]
    },
    {
      "cell_type": "markdown",
      "metadata": {
        "id": "HIWVOJ_hX3Kr",
        "colab_type": "text"
      },
      "source": [
        "Tokenization:\n",
        "---\n",
        "Once, we have pre-process our text, we can further focus on **splitting our text into tokens like list of sentences or list of words**. We can think of token as parts like a word is a token in a sentence, and sentence is a token in a paragraph. The former one known as sentence tokenization and later one word tokenization. Since, we have already remove punctuation during special character removal we can now split them using '\\n'"
      ]
    },
    {
      "cell_type": "code",
      "metadata": {
        "id": "pGNjtxVkZ4ea",
        "colab_type": "code",
        "colab": {
          "base_uri": "https://localhost:8080/",
          "height": 54
        },
        "outputId": "fa30e66c-8481-4c3f-ea68-2bc66e35bb9e"
      },
      "source": [
        "corpus = corpus.split(\"\\n\")\n",
        "print(corpus[:600])"
      ],
      "execution_count": 6,
      "outputs": [
        {
          "output_type": "stream",
          "text": [
            "['one winters evening towards the close of the year  or within a year', 'or two of that time a young medical practitioner recently established in', 'business was seated by a cheerful fire in his little parlour listening to the', 'wind which was beating the rain in pattering drops against the window or', 'rumbling dismally in the chimney the night was wet and cold he had', 'been walking through mud and water the whole day and was now', 'comfortably reposing in his dressinggown and slippers more than half', 'asleep and less than half awake revolving a thousand matters in his', 'wandering imagination first he thought how hard the wind was blowing', 'and how the cold sharp rain would be at that moment beating in his face', 'if he were not comfortably housed at home then his mind reverted to', 'his annual christmas visit to his native place and dearest friends he', 'thought how glad they would all be to see him and how happy it would', 'make rose if he could only tell her that he had found a patient at last', 'and hoped to have more and to come down again in a few months time', 'and marry her and take her home to gladden his lonely fireside and', 'stimulate him to fresh exertions then he began to wonder when his first', 'patient would appear or whether he was destined by a special', 'dispensation of providence never to have any patients at all and then', 'he thought about rose again and dropped to sleep and dreamed about', 'her till the tones of her sweet merry voice sounded in his ears and her', 'soft tiny hand rested on his shoulder', 'there was a hand upon his shoulder but it was neither soft nor tiny its', 'owner being a corpulent roundheaded boy who in consideration of the', 'sum of one shilling per week and his food was let out by the parish to', 'carry medicine and messages as there was no demand for the medicine', 'however and no necessity for the messages he usually occupied his', 'unemployed hoursaveraging fourteen a dayin abstracting peppermint', 'drops taking animal nourishment and going to sleep', 'a lady sira lady whispered the boy rousing his master with a shake', 'what lady cried our friend starting up not quite certain that his dream', 'was an illusion and half expecting that it might be rose herselfwhat', 'lady where', 'there sir replied the boy pointing to the glass door leading into the', 'surgery with an expression of alarm which the very unusual apparition of', 'a customer might have tended to excite', 'the surgeon looked towards the door and started himself for an instant', 'on beholding the appearance of his unlookedfor visitor', 'it was a singularly tall woman dressed in deep mourning and standing', 'so close to the door that her face almost touched the glass the upper', 'part of her figure was carefully muffled in a black shawl as if for the', 'purpose of concealment and her face was shrouded by a thick black veil', 'she stood perfectly erect her figure was drawn up to its full height and', 'though the surgeon felt that the eyes beneath the veil were fixed on him', 'she stood perfectly motionless and evinced by no gesture whatever the', 'slightest consciousness of his having turned towards her', 'do you wish to consult me he inquired with some hesitation holding', 'open the door it opened inwards and therefore the action did not alter', 'the position of the figure which still remained motionless on the same', 'spot', 'she slightly inclined her head in token of acquiescence', 'pray walk in said the surgeon', 'the figure moved a step forward and then turning its head in the', 'direction of the boyto his infinite horrorappeared to hesitate', 'leave the room tom said the young man addressing the boy whose', 'large round eyes had been extended to their utmost width during this', 'brief interview draw the curtain and shut the door', 'the boy drew a green curtain across the glass part of the door retired', 'into the surgery closed the door after him and immediately applied one', 'of his large eyes to the keyhole on the other side', 'the surgeon drew a chair to the fire and motioned the visitor to a seat', 'the mysterious figure slowly moved towards it as the blaze shone upon', 'the black dress the surgeon observed that the bottom of it was saturated', 'with mud and rain', 'you are very wet be said', 'i am said the stranger in a low deep voice', 'and you are ill added the surgeon compassionately for the tone was', 'that of a person in pain', 'i am was the replyvery ill not bodily but mentally it is not for', 'myself or on my own behalf continued the stranger that i come to you', 'if i laboured under bodily disease i should not be out alone at such an', 'hour or on such a night as this and if i were afflicted with it twentyfour', 'hours hence god knows how gladly i would lie down and pray to die it is', 'for another that i beseech your aid sir i may be mad to ask it for himi', 'think i am but night after night through the long dreary hours of', 'watching and weeping the thought has been ever present to my mind', 'and though even _i_ see the hopelessness of human assistance availing', 'him the bare thought of laying him in his grave without it makes my', 'blood run cold and a shudder such as the surgeon well knew art could', 'not produce trembled through the speakers frame', 'there was a desperate earnestness in this womans manner that went to', 'the young mans heart he was young in his profession and had not yet', 'witnessed enough of the miseries which are daily presented before the', 'eyes of its members to have grown comparatively callous to human', 'suffering', 'if he said rising hastily the person of whom you speak be in so', 'hopeless a condition as you describe not a moment is to be lost i will go', 'with you instantly why did you not obtain medical advice before', 'because it would have been useless beforebecause it is useless even', 'now replied the woman clasping her hands passionately', 'the surgeon gazed for a moment on the black veil as if to ascertain the', 'expression of the features beneath it its thickness however rendered', 'such a result impossible', 'you are ill he said gently although you do not know it the fever', 'which has enabled you to bear without feeling it the fatigue you have', 'evidently undergone is burning within you now put that to your lips he', 'continued pouring out a glass of water compose yourself for a few', 'moments and then tell me as calmly as you can what the disease of the', 'patient is and how long he has been ill when i know what it is necessary', 'i should know to render my visit serviceable to him i am ready to', 'accompany you', 'the stranger lifted the glass of water to her mouth without raising the', 'veil put it down again untasted and burst into tears', 'i know she said sobbing aloud that what i say to you now seems like', 'the ravings of fever i have been told so before less kindly than by you i', 'am not a young woman and they do say that as life steals on towards its', 'final close the last short remnant worthless as it may seem to all beside', 'is dearer to its possessor than all the years that have gone before', 'connected though they be with the recollection of old friends long since', 'dead and young oneschildren perhapswho have fallen off from and', 'forgotten one as completely as if they had died too my natural term of', 'life cannot be many years longer and should be dear on that account', 'but i would lay it down without a sighwith cheerfulnesswith joyif', 'what i tell you now were only false or imaginary to morrow morning', 'he of whom i speak will be i know though i would fain think otherwise', 'beyond the reach of human aid and yet to night though he is in deadly', 'peril you must not see and could not serve him', 'i am unwilling to increase your distress said the surgeon after a short', 'pause by making any comment on what you have just said or appearing', 'desirous to investigate a subject you are so anxious to conceal but there ', 'is an inconsistency in your statement which i cannot reconcile with', 'probability this person is dying tonight and i cannot see him when my', 'assistance might possibly avail you apprehend it will be useless tomorrow and yet you would have me see him then if he be indeed as', 'dear to you as your words and manner would imply why not try to save', 'his life before delay and the progress of his disease render it', 'impracticable', 'god help me exclaimed the woman weeping bitterly how can i hope', 'strangers will believe what appears incredible even to myself you will', 'not see him then sir she added rising suddenly', 'i did not say that i declined to see him replied the surgeon but i warn', 'you that if you persist in this extraordinary procrastination and the', 'individual dies a fearful responsibility rests with you', 'the responsibility will rest heavily somewhere replied the stranger', 'bitterly whatever responsibility rests with me i am content to bear and', 'ready to answer', 'as i incur none continued the surgeon by acceding to your request i', 'will see him in the morning if you leave me the address at what hour', 'can he be seen', 'nine replied the stranger', 'you must excuse my pressing these inquiries said the surgeon but is', 'he in your charge now', 'he is not was the rejoinder', 'then if i gave you instructions for his treatment through the night you', 'could not assist him', 'the woman wept bitterly as she replied i could not', 'finding that there was but little prospect of obtaining more information by', 'prolonging the interview and anxious to spare the womans feelings ', 'which subdued at first by a violent effort were now irrepressible and', 'most painful to witness the surgeon repeated his promise of calling in the', 'morning at the appointed hour his visitor after giving him a direction to', 'an obscure part of walworth left the house in the same mysterious', 'manner in which she had entered it', 'it will be readily believed that so extraordinary a visit produced a', 'considerable impression on the mind of the young surgeon and that he', 'speculated a great deal and to very little purpose on the possible', 'circumstances of the case in common with the generality of people he', 'had often heard and read of singular instances in which a presentiment', 'of death at a particular day or even minute had been entertained and', 'realised at one moment he was inclined to think that the present might', 'be such a case but then it occurred to him that all the anecdotes of the', 'kind he had ever heard were of persons who had been troubled with a', 'foreboding of their own death this woman however spoke of another', 'persona man and it was impossible to suppose that a mere dream or', 'delusion of fancy would induce her to speak of his approaching dissolution', 'with such terrible certainty as she had spoken it could not be that the', 'man was to be murdered in the morning and that the woman originally a', 'consenting party and bound to secrecy by an oath had relented and', 'though unable to prevent the commission of some outrage on the victim', 'had determined to prevent his death if possible by the timely', 'interposition of medical aid the idea of such things happening within two', 'miles of the metropolis appeared too wild and preposterous to be', 'entertained beyond the instant then his original impression that the', 'womans intellects were disordered recurred and as it was the only', 'mode of solving the difficulty with any degree of satisfaction he', 'obstinately made up his mind to believe that she was mad certain', 'misgivings upon this point however stole upon his thoughts at the time', 'and presented themselves again and again through the long dull course of', 'a sleepless night during which in spite of all his efforts to the contrary', 'he was unable to banish the black veil from his disturbed imagination', 'the back part of walworth at its greatest distance from town is a', 'straggling miserable place enough even in these days but five andthirty years ago the greater portion of it was little better than a dreary', 'waste inhabited by a few scattered people of questionable character ', 'whose poverty prevented their living in any better neighbourhood or', 'whose pursuits and mode of life rendered its solitude desirable very', 'many of the houses which have since sprung up on all sides were not', 'built until some years afterwards and the great majority even of those', 'which were sprinkled about at irregular intervals were of the rudest and', 'most miserable description', 'the appearance of the place through which he walked in the morning', 'was not calculated to raise the spirits of the young surgeon or to dispel', 'any feeling of anxiety or depression which the singular kind of visit he', 'was about to make had awakened striking off from the high road his', 'way lay across a marshy common through irregular lanes with here and', 'there a ruinous and dismantled cottage fast falling to pieces with decay', 'and neglect a stunted tree or pool of stagnant water roused into a', 'sluggish action by the heavy rain of the preceding night skirted the path', 'occasionally and now and then a miserable patch of gardenground', 'with a few old boards knocked together for a summerhouse and old', 'palings imperfectly mended with stakes pilfered from the neighbouring', 'hedges bore testimony at once to the poverty of the inhabitants and the', 'little scruple they entertained in appropriating the property of other', 'people to their own use occasionally a filthylooking woman would make', 'her appearance from the door of a dirty house to empty the contents of', 'some cooking utensil into the gutter in front or to scream after a little', 'slipshod girl who had contrived to stagger a few yards from the door', 'under the weight of a sallow infant almost as big as herself but scarcely', 'anything was stirring around and so much of the prospect as could be', 'faintly traced through the cold damp mist which hung heavily over it', 'presented a lonely and dreary appearance perfectly in keeping with the', 'objects we have described', 'after plodding wearily through the mud and mire making many inquiries', 'for the place to which he had been directed and receiving as many', 'contradictory and unsatisfactory replies in return the young man at', 'length arrived before the house which had been pointed out to him as the', 'object of his destination it was a small low building one story above the', 'ground with even a more desolate and unpromising exterior than any he', 'had yet passed an old yellow curtain was closely drawn across the', 'window upstairs and the parlour shutters were closed but not fastened ', 'the house was detached from any other and as it stood at an angle of a', 'narrow lane there was no other habitation in sight', 'when we say that the surgeon hesitated and walked a few paces beyond', 'the house before he could prevail upon himself to lift the knocker we say', 'nothing that need raise a smile upon the face of the boldest reader the', 'police of london were a very different body in that day the isolated', 'position of the suburbs when the rage for building and the progress of', 'improvement had not yet begun to connect them with the main body of', 'the city and its environs rendered many of them and this in particular a', 'place of resort for the worst and most depraved characters even the', 'streets in the gayest parts of london were imperfectly lighted at that', 'time and such places as these were left entirely to the mercy of the', 'moon and stars the chances of detecting desperate characters or of', 'tracing them to their haunts were thus rendered very few and their', 'offences naturally increased in boldness as the consciousness of', 'comparative security became the more impressed upon them by daily', 'experience added to these considerations it must be remembered that', 'the young man had spent some time in the public hospitals of the', 'metropolis and although neither burke nor bishop had then gained a', 'horrible notoriety his own observation might have suggested to him how', 'easily the atrocities to which the former has since given his name might', 'be committed be this as it may whatever reflection made him hesitate', 'he did hesitate but being a young man of strong mind and great', 'personal courage it was only for an instanthe stepped briskly back and', 'knocked gently at the door', 'a low whispering was audible immediately afterwards as if some person', 'at the end of the passage were conversing stealthily with another on the', 'landing above it was succeeded by the noise of a pair of heavy boots', 'upon the bare floor the doorchain was softly unfastened the door', 'opened and a tall illfavoured man with black hair and a face as the', 'surgeon often declared afterwards as pale and haggard as the', 'countenance of any dead man he ever saw presented himself', 'walk in sir he said in a low tone', 'the surgeon did so and the man having secured the door again by the', 'chain led the way to a small back parlour at the extremity of the', 'passage', 'am i in time', 'too soon replied the man the surgeon turned hastily round with a', 'gesture of astonishment not unmixed with alarm which he found it', 'impossible to repress', 'if youll step in here sir said the man who had evidently noticed the', 'actionif youll step in here sir you wont be detained five minutes i', 'assure you', 'the surgeon at once walked into the room the man closed the door and', 'left him alone', 'it was a little cold room with no other furniture than two deal chairs and', 'a table of the same material a handful of fire unguarded by any fender', 'was burning in the grate which brought out the damp if it served no', 'more comfortable purpose for the unwholesome moisture was stealing', 'down the walls in long sluglike tracks the window which was broken', 'and patched in many places looked into a small enclosed piece of ground', 'almost covered with water not a sound was to be heard either within the', 'house or without the young surgeon sat down by the fireplace to await', 'the result of his first professional visit', 'he had not remained in this position many minutes when the noise of', 'some approaching vehicle struck his ear it stopped the streetdoor was', 'opened a low talking succeeded accompanied with a shuffling noise of', 'footsteps along the passage and on the stairs as if two or three men', 'were engaged in carrying some heavy body to the room above the', 'creaking of the stairs a few seconds afterwards announced that the newcomers having completed their task whatever it was were leaving the', 'house the door was again closed and the former silence was restored', 'another five minutes had elapsed and the surgeon had resolved to', 'explore the house in search of some one to whom he might make his ', 'errand known when the roomdoor opened and his last nights visitor', 'dressed in exactly the same manner with the veil lowered as before', 'motioned him to advance the singular height of her form coupled with', 'the circumstance of her not speaking caused the idea to pass across his', 'brain for an instant that it might be a man disguised in womans attire', 'the hysteric sobs which issued from beneath the veil and the convulsive', 'attitude of grief of the whole figure however at once exposed the', 'absurdity of the suspicion and he hastily followed', 'the woman led the way upstairs to the front room and paused at the', 'door to let him enter first it was scantily furnished with an old deal box', 'a few chairs and a tent bedstead without hangings or crossrails which', 'was covered with a patchwork counterpane the dim light admitted', 'through the curtain which he had noticed from the outside rendered the', 'objects in the room so indistinct and communicated to all of them so', 'uniform a hue that he did not at first perceive the object on which his', 'eye at once rested when the woman rushed frantically past him and flung', 'herself on her knees by the bedside', 'stretched upon the bed closely enveloped in a linen wrapper and', 'covered with blankets lay a human form stiff and motionless the head', 'and face which were those of a man were uncovered save by a bandage', 'which passed over the head and under the chin the eyes were closed', 'the left arm lay heavily across the bed and the woman held the passive', 'hand', 'the surgeon gently pushed the woman aside and took the hand in his', 'my god he exclaimed letting it fall involuntarilythe man is dead', 'the woman started to her feet and beat her hands together', 'oh dont say so sir she exclaimed with a burst of passion amounting', 'almost to frenzy oh dont say so sir i cant bear it men have been', 'brought to life before when unskilful people have given them up for lost', 'and men have died who might have been restored if proper means had', 'been resorted to dont let him lie here sir without one effort to save', 'him this very moment life may be passing away do try sirdo for ', 'heavens sakeand while speaking she hurriedly chafed first the', 'forehead and then the breast of the senseless form before her and', 'then wildly beat the cold hands which when she ceased to hold them', 'fell listlessly and heavily back on the coverlet', 'it is of no use my good woman said the surgeon soothingly as he', 'withdrew his hand from the mans breast stayundraw that curtain', 'why said the woman starting up', 'undraw that curtain repeated the surgeon in an agitated tone', 'i darkened the room on purpose said the woman throwing herself', 'before him as he rose to undraw itoh sir have pity on me if it can be', 'of no use and he is really dead do not expose that form to other eyes', 'than mine', 'this man died no natural or easy death said the surgeon i must see', 'the body with a motion so sudden that the woman hardly knew that he', 'had slipped from beside her he tore open the curtain admitted the full', 'light of day and returned to the bedside', 'there has been violence here he said pointing towards the body and', 'gazing intently on the face from which the black veil was now for the', 'first time removed in the excitement of a minute before the female had', 'thrown off the bonnet and veil and now stood with her eyes fixed upon', 'him her features were those of a woman about fifty who had once been', 'handsome sorrow and weeping had left traces upon them which not time', 'itself would ever have produced without their aid her face was deadly', 'pale and there was a nervous contortion of the lip and an unnatural fire', 'in her eye which showed too plainly that her bodily and mental powers', 'had nearly sunk beneath an accumulation of misery', 'there has been violence here said the surgeon preserving his searching', 'glance', 'there has replied the woman', 'this man has been murdered', 'that i call god to witness he has said the woman passionately', 'pitilessly inhumanly murdered', 'by whom said the surgeon seizing the woman by the arm', 'look at the butchers marks and then ask me she replied', 'the surgeon turned his face towards the bed and bent over the body', 'which now lay full in the light of the window the throat was swollen and', 'a livid mark encircled it the truth flashed suddenly upon him', 'this is one of the men who were hanged this morning he exclaimed', 'turning away with a shudder', 'it is replied the woman with a cold unmeaning stare', 'who was he inquired the surgeon', 'my son rejoined the woman and fell senseless at his feet', 'it was true a companion equally guilty with himself had been acquitted', 'for want of evidence and this man had been left for death and executed', 'to recount the circumstances of the case at this distant period must be', 'unnecessary and might give pain to some persons still alive the history', 'was an everyday one the mother was a widow without friends or', 'money and had denied herself necessaries to bestow them on her orphan', 'boy that boy unmindful of her prayers and forgetful of the sufferings', 'she had endured for himincessant anxiety of mind and voluntary', 'starvation of body had plunged into a career of dissipation and crime', 'and this was the result his own death by the hangmans hands and his', 'mothers shame and incurable insanity', 'for many years after this occurrence and when profitable and arduous', 'avocations would have led many men to forget that such a miserable', 'being existed the young surgeon was a daily visitor at the side of the', 'harmless mad woman not only soothing her by his presence and ', 'kindness but alleviating the rigour of her condition by pecuniary', 'donations for her comfort and support bestowed with no sparing hand in', 'the transient gleam of recollection and consciousness which preceded her', 'death a prayer for his welfare and protection as fervent as mortal ever', 'breathed rose from the lips of this poor friendless creature that prayer', 'flew to heaven and was heard the blessings he was instrumental in', 'conferring have been repaid to him a thousandfold but amid all the', 'honours of rank and station which have since been heaped upon him and', 'which he has so well earned he can have no reminiscence more', 'gratifying to his heart than that connected with the black veil']\n"
          ],
          "name": "stdout"
        }
      ]
    },
    {
      "cell_type": "markdown",
      "metadata": {
        "id": "I9WKrNK4k3c6",
        "colab_type": "text"
      },
      "source": [
        "Data in the form of sentences separated by a \"\\n\" is provided. The individual sentences are retrieved and stored as list item in the \"corpus\" list using the split method. Now, **we can strip leading and trailing spaces from the text**."
      ]
    },
    {
      "cell_type": "code",
      "metadata": {
        "id": "ypAIWiKzJsj3",
        "colab_type": "code",
        "colab": {
          "base_uri": "https://localhost:8080/",
          "height": 54
        },
        "outputId": "57083d31-06d8-48f0-9723-dad9a9fe0486"
      },
      "source": [
        "corpus = [x.lstrip() for x in corpus]\n",
        "print(corpus)"
      ],
      "execution_count": 7,
      "outputs": [
        {
          "output_type": "stream",
          "text": [
            "['one winters evening towards the close of the year  or within a year', 'or two of that time a young medical practitioner recently established in', 'business was seated by a cheerful fire in his little parlour listening to the', 'wind which was beating the rain in pattering drops against the window or', 'rumbling dismally in the chimney the night was wet and cold he had', 'been walking through mud and water the whole day and was now', 'comfortably reposing in his dressinggown and slippers more than half', 'asleep and less than half awake revolving a thousand matters in his', 'wandering imagination first he thought how hard the wind was blowing', 'and how the cold sharp rain would be at that moment beating in his face', 'if he were not comfortably housed at home then his mind reverted to', 'his annual christmas visit to his native place and dearest friends he', 'thought how glad they would all be to see him and how happy it would', 'make rose if he could only tell her that he had found a patient at last', 'and hoped to have more and to come down again in a few months time', 'and marry her and take her home to gladden his lonely fireside and', 'stimulate him to fresh exertions then he began to wonder when his first', 'patient would appear or whether he was destined by a special', 'dispensation of providence never to have any patients at all and then', 'he thought about rose again and dropped to sleep and dreamed about', 'her till the tones of her sweet merry voice sounded in his ears and her', 'soft tiny hand rested on his shoulder', 'there was a hand upon his shoulder but it was neither soft nor tiny its', 'owner being a corpulent roundheaded boy who in consideration of the', 'sum of one shilling per week and his food was let out by the parish to', 'carry medicine and messages as there was no demand for the medicine', 'however and no necessity for the messages he usually occupied his', 'unemployed hoursaveraging fourteen a dayin abstracting peppermint', 'drops taking animal nourishment and going to sleep', 'a lady sira lady whispered the boy rousing his master with a shake', 'what lady cried our friend starting up not quite certain that his dream', 'was an illusion and half expecting that it might be rose herselfwhat', 'lady where', 'there sir replied the boy pointing to the glass door leading into the', 'surgery with an expression of alarm which the very unusual apparition of', 'a customer might have tended to excite', 'the surgeon looked towards the door and started himself for an instant', 'on beholding the appearance of his unlookedfor visitor', 'it was a singularly tall woman dressed in deep mourning and standing', 'so close to the door that her face almost touched the glass the upper', 'part of her figure was carefully muffled in a black shawl as if for the', 'purpose of concealment and her face was shrouded by a thick black veil', 'she stood perfectly erect her figure was drawn up to its full height and', 'though the surgeon felt that the eyes beneath the veil were fixed on him', 'she stood perfectly motionless and evinced by no gesture whatever the', 'slightest consciousness of his having turned towards her', 'do you wish to consult me he inquired with some hesitation holding', 'open the door it opened inwards and therefore the action did not alter', 'the position of the figure which still remained motionless on the same', 'spot', 'she slightly inclined her head in token of acquiescence', 'pray walk in said the surgeon', 'the figure moved a step forward and then turning its head in the', 'direction of the boyto his infinite horrorappeared to hesitate', 'leave the room tom said the young man addressing the boy whose', 'large round eyes had been extended to their utmost width during this', 'brief interview draw the curtain and shut the door', 'the boy drew a green curtain across the glass part of the door retired', 'into the surgery closed the door after him and immediately applied one', 'of his large eyes to the keyhole on the other side', 'the surgeon drew a chair to the fire and motioned the visitor to a seat', 'the mysterious figure slowly moved towards it as the blaze shone upon', 'the black dress the surgeon observed that the bottom of it was saturated', 'with mud and rain', 'you are very wet be said', 'i am said the stranger in a low deep voice', 'and you are ill added the surgeon compassionately for the tone was', 'that of a person in pain', 'i am was the replyvery ill not bodily but mentally it is not for', 'myself or on my own behalf continued the stranger that i come to you', 'if i laboured under bodily disease i should not be out alone at such an', 'hour or on such a night as this and if i were afflicted with it twentyfour', 'hours hence god knows how gladly i would lie down and pray to die it is', 'for another that i beseech your aid sir i may be mad to ask it for himi', 'think i am but night after night through the long dreary hours of', 'watching and weeping the thought has been ever present to my mind', 'and though even _i_ see the hopelessness of human assistance availing', 'him the bare thought of laying him in his grave without it makes my', 'blood run cold and a shudder such as the surgeon well knew art could', 'not produce trembled through the speakers frame', 'there was a desperate earnestness in this womans manner that went to', 'the young mans heart he was young in his profession and had not yet', 'witnessed enough of the miseries which are daily presented before the', 'eyes of its members to have grown comparatively callous to human', 'suffering', 'if he said rising hastily the person of whom you speak be in so', 'hopeless a condition as you describe not a moment is to be lost i will go', 'with you instantly why did you not obtain medical advice before', 'because it would have been useless beforebecause it is useless even', 'now replied the woman clasping her hands passionately', 'the surgeon gazed for a moment on the black veil as if to ascertain the', 'expression of the features beneath it its thickness however rendered', 'such a result impossible', 'you are ill he said gently although you do not know it the fever', 'which has enabled you to bear without feeling it the fatigue you have', 'evidently undergone is burning within you now put that to your lips he', 'continued pouring out a glass of water compose yourself for a few', 'moments and then tell me as calmly as you can what the disease of the', 'patient is and how long he has been ill when i know what it is necessary', 'i should know to render my visit serviceable to him i am ready to', 'accompany you', 'the stranger lifted the glass of water to her mouth without raising the', 'veil put it down again untasted and burst into tears', 'i know she said sobbing aloud that what i say to you now seems like', 'the ravings of fever i have been told so before less kindly than by you i', 'am not a young woman and they do say that as life steals on towards its', 'final close the last short remnant worthless as it may seem to all beside', 'is dearer to its possessor than all the years that have gone before', 'connected though they be with the recollection of old friends long since', 'dead and young oneschildren perhapswho have fallen off from and', 'forgotten one as completely as if they had died too my natural term of', 'life cannot be many years longer and should be dear on that account', 'but i would lay it down without a sighwith cheerfulnesswith joyif', 'what i tell you now were only false or imaginary to morrow morning', 'he of whom i speak will be i know though i would fain think otherwise', 'beyond the reach of human aid and yet to night though he is in deadly', 'peril you must not see and could not serve him', 'i am unwilling to increase your distress said the surgeon after a short', 'pause by making any comment on what you have just said or appearing', 'desirous to investigate a subject you are so anxious to conceal but there ', 'is an inconsistency in your statement which i cannot reconcile with', 'probability this person is dying tonight and i cannot see him when my', 'assistance might possibly avail you apprehend it will be useless tomorrow and yet you would have me see him then if he be indeed as', 'dear to you as your words and manner would imply why not try to save', 'his life before delay and the progress of his disease render it', 'impracticable', 'god help me exclaimed the woman weeping bitterly how can i hope', 'strangers will believe what appears incredible even to myself you will', 'not see him then sir she added rising suddenly', 'i did not say that i declined to see him replied the surgeon but i warn', 'you that if you persist in this extraordinary procrastination and the', 'individual dies a fearful responsibility rests with you', 'the responsibility will rest heavily somewhere replied the stranger', 'bitterly whatever responsibility rests with me i am content to bear and', 'ready to answer', 'as i incur none continued the surgeon by acceding to your request i', 'will see him in the morning if you leave me the address at what hour', 'can he be seen', 'nine replied the stranger', 'you must excuse my pressing these inquiries said the surgeon but is', 'he in your charge now', 'he is not was the rejoinder', 'then if i gave you instructions for his treatment through the night you', 'could not assist him', 'the woman wept bitterly as she replied i could not', 'finding that there was but little prospect of obtaining more information by', 'prolonging the interview and anxious to spare the womans feelings ', 'which subdued at first by a violent effort were now irrepressible and', 'most painful to witness the surgeon repeated his promise of calling in the', 'morning at the appointed hour his visitor after giving him a direction to', 'an obscure part of walworth left the house in the same mysterious', 'manner in which she had entered it', 'it will be readily believed that so extraordinary a visit produced a', 'considerable impression on the mind of the young surgeon and that he', 'speculated a great deal and to very little purpose on the possible', 'circumstances of the case in common with the generality of people he', 'had often heard and read of singular instances in which a presentiment', 'of death at a particular day or even minute had been entertained and', 'realised at one moment he was inclined to think that the present might', 'be such a case but then it occurred to him that all the anecdotes of the', 'kind he had ever heard were of persons who had been troubled with a', 'foreboding of their own death this woman however spoke of another', 'persona man and it was impossible to suppose that a mere dream or', 'delusion of fancy would induce her to speak of his approaching dissolution', 'with such terrible certainty as she had spoken it could not be that the', 'man was to be murdered in the morning and that the woman originally a', 'consenting party and bound to secrecy by an oath had relented and', 'though unable to prevent the commission of some outrage on the victim', 'had determined to prevent his death if possible by the timely', 'interposition of medical aid the idea of such things happening within two', 'miles of the metropolis appeared too wild and preposterous to be', 'entertained beyond the instant then his original impression that the', 'womans intellects were disordered recurred and as it was the only', 'mode of solving the difficulty with any degree of satisfaction he', 'obstinately made up his mind to believe that she was mad certain', 'misgivings upon this point however stole upon his thoughts at the time', 'and presented themselves again and again through the long dull course of', 'a sleepless night during which in spite of all his efforts to the contrary', 'he was unable to banish the black veil from his disturbed imagination', 'the back part of walworth at its greatest distance from town is a', 'straggling miserable place enough even in these days but five andthirty years ago the greater portion of it was little better than a dreary', 'waste inhabited by a few scattered people of questionable character ', 'whose poverty prevented their living in any better neighbourhood or', 'whose pursuits and mode of life rendered its solitude desirable very', 'many of the houses which have since sprung up on all sides were not', 'built until some years afterwards and the great majority even of those', 'which were sprinkled about at irregular intervals were of the rudest and', 'most miserable description', 'the appearance of the place through which he walked in the morning', 'was not calculated to raise the spirits of the young surgeon or to dispel', 'any feeling of anxiety or depression which the singular kind of visit he', 'was about to make had awakened striking off from the high road his', 'way lay across a marshy common through irregular lanes with here and', 'there a ruinous and dismantled cottage fast falling to pieces with decay', 'and neglect a stunted tree or pool of stagnant water roused into a', 'sluggish action by the heavy rain of the preceding night skirted the path', 'occasionally and now and then a miserable patch of gardenground', 'with a few old boards knocked together for a summerhouse and old', 'palings imperfectly mended with stakes pilfered from the neighbouring', 'hedges bore testimony at once to the poverty of the inhabitants and the', 'little scruple they entertained in appropriating the property of other', 'people to their own use occasionally a filthylooking woman would make', 'her appearance from the door of a dirty house to empty the contents of', 'some cooking utensil into the gutter in front or to scream after a little', 'slipshod girl who had contrived to stagger a few yards from the door', 'under the weight of a sallow infant almost as big as herself but scarcely', 'anything was stirring around and so much of the prospect as could be', 'faintly traced through the cold damp mist which hung heavily over it', 'presented a lonely and dreary appearance perfectly in keeping with the', 'objects we have described', 'after plodding wearily through the mud and mire making many inquiries', 'for the place to which he had been directed and receiving as many', 'contradictory and unsatisfactory replies in return the young man at', 'length arrived before the house which had been pointed out to him as the', 'object of his destination it was a small low building one story above the', 'ground with even a more desolate and unpromising exterior than any he', 'had yet passed an old yellow curtain was closely drawn across the', 'window upstairs and the parlour shutters were closed but not fastened ', 'the house was detached from any other and as it stood at an angle of a', 'narrow lane there was no other habitation in sight', 'when we say that the surgeon hesitated and walked a few paces beyond', 'the house before he could prevail upon himself to lift the knocker we say', 'nothing that need raise a smile upon the face of the boldest reader the', 'police of london were a very different body in that day the isolated', 'position of the suburbs when the rage for building and the progress of', 'improvement had not yet begun to connect them with the main body of', 'the city and its environs rendered many of them and this in particular a', 'place of resort for the worst and most depraved characters even the', 'streets in the gayest parts of london were imperfectly lighted at that', 'time and such places as these were left entirely to the mercy of the', 'moon and stars the chances of detecting desperate characters or of', 'tracing them to their haunts were thus rendered very few and their', 'offences naturally increased in boldness as the consciousness of', 'comparative security became the more impressed upon them by daily', 'experience added to these considerations it must be remembered that', 'the young man had spent some time in the public hospitals of the', 'metropolis and although neither burke nor bishop had then gained a', 'horrible notoriety his own observation might have suggested to him how', 'easily the atrocities to which the former has since given his name might', 'be committed be this as it may whatever reflection made him hesitate', 'he did hesitate but being a young man of strong mind and great', 'personal courage it was only for an instanthe stepped briskly back and', 'knocked gently at the door', 'a low whispering was audible immediately afterwards as if some person', 'at the end of the passage were conversing stealthily with another on the', 'landing above it was succeeded by the noise of a pair of heavy boots', 'upon the bare floor the doorchain was softly unfastened the door', 'opened and a tall illfavoured man with black hair and a face as the', 'surgeon often declared afterwards as pale and haggard as the', 'countenance of any dead man he ever saw presented himself', 'walk in sir he said in a low tone', 'the surgeon did so and the man having secured the door again by the', 'chain led the way to a small back parlour at the extremity of the', 'passage', 'am i in time', 'too soon replied the man the surgeon turned hastily round with a', 'gesture of astonishment not unmixed with alarm which he found it', 'impossible to repress', 'if youll step in here sir said the man who had evidently noticed the', 'actionif youll step in here sir you wont be detained five minutes i', 'assure you', 'the surgeon at once walked into the room the man closed the door and', 'left him alone', 'it was a little cold room with no other furniture than two deal chairs and', 'a table of the same material a handful of fire unguarded by any fender', 'was burning in the grate which brought out the damp if it served no', 'more comfortable purpose for the unwholesome moisture was stealing', 'down the walls in long sluglike tracks the window which was broken', 'and patched in many places looked into a small enclosed piece of ground', 'almost covered with water not a sound was to be heard either within the', 'house or without the young surgeon sat down by the fireplace to await', 'the result of his first professional visit', 'he had not remained in this position many minutes when the noise of', 'some approaching vehicle struck his ear it stopped the streetdoor was', 'opened a low talking succeeded accompanied with a shuffling noise of', 'footsteps along the passage and on the stairs as if two or three men', 'were engaged in carrying some heavy body to the room above the', 'creaking of the stairs a few seconds afterwards announced that the newcomers having completed their task whatever it was were leaving the', 'house the door was again closed and the former silence was restored', 'another five minutes had elapsed and the surgeon had resolved to', 'explore the house in search of some one to whom he might make his ', 'errand known when the roomdoor opened and his last nights visitor', 'dressed in exactly the same manner with the veil lowered as before', 'motioned him to advance the singular height of her form coupled with', 'the circumstance of her not speaking caused the idea to pass across his', 'brain for an instant that it might be a man disguised in womans attire', 'the hysteric sobs which issued from beneath the veil and the convulsive', 'attitude of grief of the whole figure however at once exposed the', 'absurdity of the suspicion and he hastily followed', 'the woman led the way upstairs to the front room and paused at the', 'door to let him enter first it was scantily furnished with an old deal box', 'a few chairs and a tent bedstead without hangings or crossrails which', 'was covered with a patchwork counterpane the dim light admitted', 'through the curtain which he had noticed from the outside rendered the', 'objects in the room so indistinct and communicated to all of them so', 'uniform a hue that he did not at first perceive the object on which his', 'eye at once rested when the woman rushed frantically past him and flung', 'herself on her knees by the bedside', 'stretched upon the bed closely enveloped in a linen wrapper and', 'covered with blankets lay a human form stiff and motionless the head', 'and face which were those of a man were uncovered save by a bandage', 'which passed over the head and under the chin the eyes were closed', 'the left arm lay heavily across the bed and the woman held the passive', 'hand', 'the surgeon gently pushed the woman aside and took the hand in his', 'my god he exclaimed letting it fall involuntarilythe man is dead', 'the woman started to her feet and beat her hands together', 'oh dont say so sir she exclaimed with a burst of passion amounting', 'almost to frenzy oh dont say so sir i cant bear it men have been', 'brought to life before when unskilful people have given them up for lost', 'and men have died who might have been restored if proper means had', 'been resorted to dont let him lie here sir without one effort to save', 'him this very moment life may be passing away do try sirdo for ', 'heavens sakeand while speaking she hurriedly chafed first the', 'forehead and then the breast of the senseless form before her and', 'then wildly beat the cold hands which when she ceased to hold them', 'fell listlessly and heavily back on the coverlet', 'it is of no use my good woman said the surgeon soothingly as he', 'withdrew his hand from the mans breast stayundraw that curtain', 'why said the woman starting up', 'undraw that curtain repeated the surgeon in an agitated tone', 'i darkened the room on purpose said the woman throwing herself', 'before him as he rose to undraw itoh sir have pity on me if it can be', 'of no use and he is really dead do not expose that form to other eyes', 'than mine', 'this man died no natural or easy death said the surgeon i must see', 'the body with a motion so sudden that the woman hardly knew that he', 'had slipped from beside her he tore open the curtain admitted the full', 'light of day and returned to the bedside', 'there has been violence here he said pointing towards the body and', 'gazing intently on the face from which the black veil was now for the', 'first time removed in the excitement of a minute before the female had', 'thrown off the bonnet and veil and now stood with her eyes fixed upon', 'him her features were those of a woman about fifty who had once been', 'handsome sorrow and weeping had left traces upon them which not time', 'itself would ever have produced without their aid her face was deadly', 'pale and there was a nervous contortion of the lip and an unnatural fire', 'in her eye which showed too plainly that her bodily and mental powers', 'had nearly sunk beneath an accumulation of misery', 'there has been violence here said the surgeon preserving his searching', 'glance', 'there has replied the woman', 'this man has been murdered', 'that i call god to witness he has said the woman passionately', 'pitilessly inhumanly murdered', 'by whom said the surgeon seizing the woman by the arm', 'look at the butchers marks and then ask me she replied', 'the surgeon turned his face towards the bed and bent over the body', 'which now lay full in the light of the window the throat was swollen and', 'a livid mark encircled it the truth flashed suddenly upon him', 'this is one of the men who were hanged this morning he exclaimed', 'turning away with a shudder', 'it is replied the woman with a cold unmeaning stare', 'who was he inquired the surgeon', 'my son rejoined the woman and fell senseless at his feet', 'it was true a companion equally guilty with himself had been acquitted', 'for want of evidence and this man had been left for death and executed', 'to recount the circumstances of the case at this distant period must be', 'unnecessary and might give pain to some persons still alive the history', 'was an everyday one the mother was a widow without friends or', 'money and had denied herself necessaries to bestow them on her orphan', 'boy that boy unmindful of her prayers and forgetful of the sufferings', 'she had endured for himincessant anxiety of mind and voluntary', 'starvation of body had plunged into a career of dissipation and crime', 'and this was the result his own death by the hangmans hands and his', 'mothers shame and incurable insanity', 'for many years after this occurrence and when profitable and arduous', 'avocations would have led many men to forget that such a miserable', 'being existed the young surgeon was a daily visitor at the side of the', 'harmless mad woman not only soothing her by his presence and ', 'kindness but alleviating the rigour of her condition by pecuniary', 'donations for her comfort and support bestowed with no sparing hand in', 'the transient gleam of recollection and consciousness which preceded her', 'death a prayer for his welfare and protection as fervent as mortal ever', 'breathed rose from the lips of this poor friendless creature that prayer', 'flew to heaven and was heard the blessings he was instrumental in', 'conferring have been repaid to him a thousandfold but amid all the', 'honours of rank and station which have since been heaped upon him and', 'which he has so well earned he can have no reminiscence more', 'gratifying to his heart than that connected with the black veil']\n"
          ],
          "name": "stdout"
        }
      ]
    },
    {
      "cell_type": "code",
      "metadata": {
        "id": "tJbtQO4XJsfv",
        "colab_type": "code",
        "colab": {
          "base_uri": "https://localhost:8080/",
          "height": 54
        },
        "outputId": "e4cfcfe3-2177-40de-d3db-9708eaea5c96"
      },
      "source": [
        "corpus = [x.rstrip() for x in corpus]\n",
        "print(corpus)"
      ],
      "execution_count": 8,
      "outputs": [
        {
          "output_type": "stream",
          "text": [
            "['one winters evening towards the close of the year  or within a year', 'or two of that time a young medical practitioner recently established in', 'business was seated by a cheerful fire in his little parlour listening to the', 'wind which was beating the rain in pattering drops against the window or', 'rumbling dismally in the chimney the night was wet and cold he had', 'been walking through mud and water the whole day and was now', 'comfortably reposing in his dressinggown and slippers more than half', 'asleep and less than half awake revolving a thousand matters in his', 'wandering imagination first he thought how hard the wind was blowing', 'and how the cold sharp rain would be at that moment beating in his face', 'if he were not comfortably housed at home then his mind reverted to', 'his annual christmas visit to his native place and dearest friends he', 'thought how glad they would all be to see him and how happy it would', 'make rose if he could only tell her that he had found a patient at last', 'and hoped to have more and to come down again in a few months time', 'and marry her and take her home to gladden his lonely fireside and', 'stimulate him to fresh exertions then he began to wonder when his first', 'patient would appear or whether he was destined by a special', 'dispensation of providence never to have any patients at all and then', 'he thought about rose again and dropped to sleep and dreamed about', 'her till the tones of her sweet merry voice sounded in his ears and her', 'soft tiny hand rested on his shoulder', 'there was a hand upon his shoulder but it was neither soft nor tiny its', 'owner being a corpulent roundheaded boy who in consideration of the', 'sum of one shilling per week and his food was let out by the parish to', 'carry medicine and messages as there was no demand for the medicine', 'however and no necessity for the messages he usually occupied his', 'unemployed hoursaveraging fourteen a dayin abstracting peppermint', 'drops taking animal nourishment and going to sleep', 'a lady sira lady whispered the boy rousing his master with a shake', 'what lady cried our friend starting up not quite certain that his dream', 'was an illusion and half expecting that it might be rose herselfwhat', 'lady where', 'there sir replied the boy pointing to the glass door leading into the', 'surgery with an expression of alarm which the very unusual apparition of', 'a customer might have tended to excite', 'the surgeon looked towards the door and started himself for an instant', 'on beholding the appearance of his unlookedfor visitor', 'it was a singularly tall woman dressed in deep mourning and standing', 'so close to the door that her face almost touched the glass the upper', 'part of her figure was carefully muffled in a black shawl as if for the', 'purpose of concealment and her face was shrouded by a thick black veil', 'she stood perfectly erect her figure was drawn up to its full height and', 'though the surgeon felt that the eyes beneath the veil were fixed on him', 'she stood perfectly motionless and evinced by no gesture whatever the', 'slightest consciousness of his having turned towards her', 'do you wish to consult me he inquired with some hesitation holding', 'open the door it opened inwards and therefore the action did not alter', 'the position of the figure which still remained motionless on the same', 'spot', 'she slightly inclined her head in token of acquiescence', 'pray walk in said the surgeon', 'the figure moved a step forward and then turning its head in the', 'direction of the boyto his infinite horrorappeared to hesitate', 'leave the room tom said the young man addressing the boy whose', 'large round eyes had been extended to their utmost width during this', 'brief interview draw the curtain and shut the door', 'the boy drew a green curtain across the glass part of the door retired', 'into the surgery closed the door after him and immediately applied one', 'of his large eyes to the keyhole on the other side', 'the surgeon drew a chair to the fire and motioned the visitor to a seat', 'the mysterious figure slowly moved towards it as the blaze shone upon', 'the black dress the surgeon observed that the bottom of it was saturated', 'with mud and rain', 'you are very wet be said', 'i am said the stranger in a low deep voice', 'and you are ill added the surgeon compassionately for the tone was', 'that of a person in pain', 'i am was the replyvery ill not bodily but mentally it is not for', 'myself or on my own behalf continued the stranger that i come to you', 'if i laboured under bodily disease i should not be out alone at such an', 'hour or on such a night as this and if i were afflicted with it twentyfour', 'hours hence god knows how gladly i would lie down and pray to die it is', 'for another that i beseech your aid sir i may be mad to ask it for himi', 'think i am but night after night through the long dreary hours of', 'watching and weeping the thought has been ever present to my mind', 'and though even _i_ see the hopelessness of human assistance availing', 'him the bare thought of laying him in his grave without it makes my', 'blood run cold and a shudder such as the surgeon well knew art could', 'not produce trembled through the speakers frame', 'there was a desperate earnestness in this womans manner that went to', 'the young mans heart he was young in his profession and had not yet', 'witnessed enough of the miseries which are daily presented before the', 'eyes of its members to have grown comparatively callous to human', 'suffering', 'if he said rising hastily the person of whom you speak be in so', 'hopeless a condition as you describe not a moment is to be lost i will go', 'with you instantly why did you not obtain medical advice before', 'because it would have been useless beforebecause it is useless even', 'now replied the woman clasping her hands passionately', 'the surgeon gazed for a moment on the black veil as if to ascertain the', 'expression of the features beneath it its thickness however rendered', 'such a result impossible', 'you are ill he said gently although you do not know it the fever', 'which has enabled you to bear without feeling it the fatigue you have', 'evidently undergone is burning within you now put that to your lips he', 'continued pouring out a glass of water compose yourself for a few', 'moments and then tell me as calmly as you can what the disease of the', 'patient is and how long he has been ill when i know what it is necessary', 'i should know to render my visit serviceable to him i am ready to', 'accompany you', 'the stranger lifted the glass of water to her mouth without raising the', 'veil put it down again untasted and burst into tears', 'i know she said sobbing aloud that what i say to you now seems like', 'the ravings of fever i have been told so before less kindly than by you i', 'am not a young woman and they do say that as life steals on towards its', 'final close the last short remnant worthless as it may seem to all beside', 'is dearer to its possessor than all the years that have gone before', 'connected though they be with the recollection of old friends long since', 'dead and young oneschildren perhapswho have fallen off from and', 'forgotten one as completely as if they had died too my natural term of', 'life cannot be many years longer and should be dear on that account', 'but i would lay it down without a sighwith cheerfulnesswith joyif', 'what i tell you now were only false or imaginary to morrow morning', 'he of whom i speak will be i know though i would fain think otherwise', 'beyond the reach of human aid and yet to night though he is in deadly', 'peril you must not see and could not serve him', 'i am unwilling to increase your distress said the surgeon after a short', 'pause by making any comment on what you have just said or appearing', 'desirous to investigate a subject you are so anxious to conceal but there', 'is an inconsistency in your statement which i cannot reconcile with', 'probability this person is dying tonight and i cannot see him when my', 'assistance might possibly avail you apprehend it will be useless tomorrow and yet you would have me see him then if he be indeed as', 'dear to you as your words and manner would imply why not try to save', 'his life before delay and the progress of his disease render it', 'impracticable', 'god help me exclaimed the woman weeping bitterly how can i hope', 'strangers will believe what appears incredible even to myself you will', 'not see him then sir she added rising suddenly', 'i did not say that i declined to see him replied the surgeon but i warn', 'you that if you persist in this extraordinary procrastination and the', 'individual dies a fearful responsibility rests with you', 'the responsibility will rest heavily somewhere replied the stranger', 'bitterly whatever responsibility rests with me i am content to bear and', 'ready to answer', 'as i incur none continued the surgeon by acceding to your request i', 'will see him in the morning if you leave me the address at what hour', 'can he be seen', 'nine replied the stranger', 'you must excuse my pressing these inquiries said the surgeon but is', 'he in your charge now', 'he is not was the rejoinder', 'then if i gave you instructions for his treatment through the night you', 'could not assist him', 'the woman wept bitterly as she replied i could not', 'finding that there was but little prospect of obtaining more information by', 'prolonging the interview and anxious to spare the womans feelings', 'which subdued at first by a violent effort were now irrepressible and', 'most painful to witness the surgeon repeated his promise of calling in the', 'morning at the appointed hour his visitor after giving him a direction to', 'an obscure part of walworth left the house in the same mysterious', 'manner in which she had entered it', 'it will be readily believed that so extraordinary a visit produced a', 'considerable impression on the mind of the young surgeon and that he', 'speculated a great deal and to very little purpose on the possible', 'circumstances of the case in common with the generality of people he', 'had often heard and read of singular instances in which a presentiment', 'of death at a particular day or even minute had been entertained and', 'realised at one moment he was inclined to think that the present might', 'be such a case but then it occurred to him that all the anecdotes of the', 'kind he had ever heard were of persons who had been troubled with a', 'foreboding of their own death this woman however spoke of another', 'persona man and it was impossible to suppose that a mere dream or', 'delusion of fancy would induce her to speak of his approaching dissolution', 'with such terrible certainty as she had spoken it could not be that the', 'man was to be murdered in the morning and that the woman originally a', 'consenting party and bound to secrecy by an oath had relented and', 'though unable to prevent the commission of some outrage on the victim', 'had determined to prevent his death if possible by the timely', 'interposition of medical aid the idea of such things happening within two', 'miles of the metropolis appeared too wild and preposterous to be', 'entertained beyond the instant then his original impression that the', 'womans intellects were disordered recurred and as it was the only', 'mode of solving the difficulty with any degree of satisfaction he', 'obstinately made up his mind to believe that she was mad certain', 'misgivings upon this point however stole upon his thoughts at the time', 'and presented themselves again and again through the long dull course of', 'a sleepless night during which in spite of all his efforts to the contrary', 'he was unable to banish the black veil from his disturbed imagination', 'the back part of walworth at its greatest distance from town is a', 'straggling miserable place enough even in these days but five andthirty years ago the greater portion of it was little better than a dreary', 'waste inhabited by a few scattered people of questionable character', 'whose poverty prevented their living in any better neighbourhood or', 'whose pursuits and mode of life rendered its solitude desirable very', 'many of the houses which have since sprung up on all sides were not', 'built until some years afterwards and the great majority even of those', 'which were sprinkled about at irregular intervals were of the rudest and', 'most miserable description', 'the appearance of the place through which he walked in the morning', 'was not calculated to raise the spirits of the young surgeon or to dispel', 'any feeling of anxiety or depression which the singular kind of visit he', 'was about to make had awakened striking off from the high road his', 'way lay across a marshy common through irregular lanes with here and', 'there a ruinous and dismantled cottage fast falling to pieces with decay', 'and neglect a stunted tree or pool of stagnant water roused into a', 'sluggish action by the heavy rain of the preceding night skirted the path', 'occasionally and now and then a miserable patch of gardenground', 'with a few old boards knocked together for a summerhouse and old', 'palings imperfectly mended with stakes pilfered from the neighbouring', 'hedges bore testimony at once to the poverty of the inhabitants and the', 'little scruple they entertained in appropriating the property of other', 'people to their own use occasionally a filthylooking woman would make', 'her appearance from the door of a dirty house to empty the contents of', 'some cooking utensil into the gutter in front or to scream after a little', 'slipshod girl who had contrived to stagger a few yards from the door', 'under the weight of a sallow infant almost as big as herself but scarcely', 'anything was stirring around and so much of the prospect as could be', 'faintly traced through the cold damp mist which hung heavily over it', 'presented a lonely and dreary appearance perfectly in keeping with the', 'objects we have described', 'after plodding wearily through the mud and mire making many inquiries', 'for the place to which he had been directed and receiving as many', 'contradictory and unsatisfactory replies in return the young man at', 'length arrived before the house which had been pointed out to him as the', 'object of his destination it was a small low building one story above the', 'ground with even a more desolate and unpromising exterior than any he', 'had yet passed an old yellow curtain was closely drawn across the', 'window upstairs and the parlour shutters were closed but not fastened', 'the house was detached from any other and as it stood at an angle of a', 'narrow lane there was no other habitation in sight', 'when we say that the surgeon hesitated and walked a few paces beyond', 'the house before he could prevail upon himself to lift the knocker we say', 'nothing that need raise a smile upon the face of the boldest reader the', 'police of london were a very different body in that day the isolated', 'position of the suburbs when the rage for building and the progress of', 'improvement had not yet begun to connect them with the main body of', 'the city and its environs rendered many of them and this in particular a', 'place of resort for the worst and most depraved characters even the', 'streets in the gayest parts of london were imperfectly lighted at that', 'time and such places as these were left entirely to the mercy of the', 'moon and stars the chances of detecting desperate characters or of', 'tracing them to their haunts were thus rendered very few and their', 'offences naturally increased in boldness as the consciousness of', 'comparative security became the more impressed upon them by daily', 'experience added to these considerations it must be remembered that', 'the young man had spent some time in the public hospitals of the', 'metropolis and although neither burke nor bishop had then gained a', 'horrible notoriety his own observation might have suggested to him how', 'easily the atrocities to which the former has since given his name might', 'be committed be this as it may whatever reflection made him hesitate', 'he did hesitate but being a young man of strong mind and great', 'personal courage it was only for an instanthe stepped briskly back and', 'knocked gently at the door', 'a low whispering was audible immediately afterwards as if some person', 'at the end of the passage were conversing stealthily with another on the', 'landing above it was succeeded by the noise of a pair of heavy boots', 'upon the bare floor the doorchain was softly unfastened the door', 'opened and a tall illfavoured man with black hair and a face as the', 'surgeon often declared afterwards as pale and haggard as the', 'countenance of any dead man he ever saw presented himself', 'walk in sir he said in a low tone', 'the surgeon did so and the man having secured the door again by the', 'chain led the way to a small back parlour at the extremity of the', 'passage', 'am i in time', 'too soon replied the man the surgeon turned hastily round with a', 'gesture of astonishment not unmixed with alarm which he found it', 'impossible to repress', 'if youll step in here sir said the man who had evidently noticed the', 'actionif youll step in here sir you wont be detained five minutes i', 'assure you', 'the surgeon at once walked into the room the man closed the door and', 'left him alone', 'it was a little cold room with no other furniture than two deal chairs and', 'a table of the same material a handful of fire unguarded by any fender', 'was burning in the grate which brought out the damp if it served no', 'more comfortable purpose for the unwholesome moisture was stealing', 'down the walls in long sluglike tracks the window which was broken', 'and patched in many places looked into a small enclosed piece of ground', 'almost covered with water not a sound was to be heard either within the', 'house or without the young surgeon sat down by the fireplace to await', 'the result of his first professional visit', 'he had not remained in this position many minutes when the noise of', 'some approaching vehicle struck his ear it stopped the streetdoor was', 'opened a low talking succeeded accompanied with a shuffling noise of', 'footsteps along the passage and on the stairs as if two or three men', 'were engaged in carrying some heavy body to the room above the', 'creaking of the stairs a few seconds afterwards announced that the newcomers having completed their task whatever it was were leaving the', 'house the door was again closed and the former silence was restored', 'another five minutes had elapsed and the surgeon had resolved to', 'explore the house in search of some one to whom he might make his', 'errand known when the roomdoor opened and his last nights visitor', 'dressed in exactly the same manner with the veil lowered as before', 'motioned him to advance the singular height of her form coupled with', 'the circumstance of her not speaking caused the idea to pass across his', 'brain for an instant that it might be a man disguised in womans attire', 'the hysteric sobs which issued from beneath the veil and the convulsive', 'attitude of grief of the whole figure however at once exposed the', 'absurdity of the suspicion and he hastily followed', 'the woman led the way upstairs to the front room and paused at the', 'door to let him enter first it was scantily furnished with an old deal box', 'a few chairs and a tent bedstead without hangings or crossrails which', 'was covered with a patchwork counterpane the dim light admitted', 'through the curtain which he had noticed from the outside rendered the', 'objects in the room so indistinct and communicated to all of them so', 'uniform a hue that he did not at first perceive the object on which his', 'eye at once rested when the woman rushed frantically past him and flung', 'herself on her knees by the bedside', 'stretched upon the bed closely enveloped in a linen wrapper and', 'covered with blankets lay a human form stiff and motionless the head', 'and face which were those of a man were uncovered save by a bandage', 'which passed over the head and under the chin the eyes were closed', 'the left arm lay heavily across the bed and the woman held the passive', 'hand', 'the surgeon gently pushed the woman aside and took the hand in his', 'my god he exclaimed letting it fall involuntarilythe man is dead', 'the woman started to her feet and beat her hands together', 'oh dont say so sir she exclaimed with a burst of passion amounting', 'almost to frenzy oh dont say so sir i cant bear it men have been', 'brought to life before when unskilful people have given them up for lost', 'and men have died who might have been restored if proper means had', 'been resorted to dont let him lie here sir without one effort to save', 'him this very moment life may be passing away do try sirdo for', 'heavens sakeand while speaking she hurriedly chafed first the', 'forehead and then the breast of the senseless form before her and', 'then wildly beat the cold hands which when she ceased to hold them', 'fell listlessly and heavily back on the coverlet', 'it is of no use my good woman said the surgeon soothingly as he', 'withdrew his hand from the mans breast stayundraw that curtain', 'why said the woman starting up', 'undraw that curtain repeated the surgeon in an agitated tone', 'i darkened the room on purpose said the woman throwing herself', 'before him as he rose to undraw itoh sir have pity on me if it can be', 'of no use and he is really dead do not expose that form to other eyes', 'than mine', 'this man died no natural or easy death said the surgeon i must see', 'the body with a motion so sudden that the woman hardly knew that he', 'had slipped from beside her he tore open the curtain admitted the full', 'light of day and returned to the bedside', 'there has been violence here he said pointing towards the body and', 'gazing intently on the face from which the black veil was now for the', 'first time removed in the excitement of a minute before the female had', 'thrown off the bonnet and veil and now stood with her eyes fixed upon', 'him her features were those of a woman about fifty who had once been', 'handsome sorrow and weeping had left traces upon them which not time', 'itself would ever have produced without their aid her face was deadly', 'pale and there was a nervous contortion of the lip and an unnatural fire', 'in her eye which showed too plainly that her bodily and mental powers', 'had nearly sunk beneath an accumulation of misery', 'there has been violence here said the surgeon preserving his searching', 'glance', 'there has replied the woman', 'this man has been murdered', 'that i call god to witness he has said the woman passionately', 'pitilessly inhumanly murdered', 'by whom said the surgeon seizing the woman by the arm', 'look at the butchers marks and then ask me she replied', 'the surgeon turned his face towards the bed and bent over the body', 'which now lay full in the light of the window the throat was swollen and', 'a livid mark encircled it the truth flashed suddenly upon him', 'this is one of the men who were hanged this morning he exclaimed', 'turning away with a shudder', 'it is replied the woman with a cold unmeaning stare', 'who was he inquired the surgeon', 'my son rejoined the woman and fell senseless at his feet', 'it was true a companion equally guilty with himself had been acquitted', 'for want of evidence and this man had been left for death and executed', 'to recount the circumstances of the case at this distant period must be', 'unnecessary and might give pain to some persons still alive the history', 'was an everyday one the mother was a widow without friends or', 'money and had denied herself necessaries to bestow them on her orphan', 'boy that boy unmindful of her prayers and forgetful of the sufferings', 'she had endured for himincessant anxiety of mind and voluntary', 'starvation of body had plunged into a career of dissipation and crime', 'and this was the result his own death by the hangmans hands and his', 'mothers shame and incurable insanity', 'for many years after this occurrence and when profitable and arduous', 'avocations would have led many men to forget that such a miserable', 'being existed the young surgeon was a daily visitor at the side of the', 'harmless mad woman not only soothing her by his presence and', 'kindness but alleviating the rigour of her condition by pecuniary', 'donations for her comfort and support bestowed with no sparing hand in', 'the transient gleam of recollection and consciousness which preceded her', 'death a prayer for his welfare and protection as fervent as mortal ever', 'breathed rose from the lips of this poor friendless creature that prayer', 'flew to heaven and was heard the blessings he was instrumental in', 'conferring have been repaid to him a thousandfold but amid all the', 'honours of rank and station which have since been heaped upon him and', 'which he has so well earned he can have no reminiscence more', 'gratifying to his heart than that connected with the black veil']\n"
          ],
          "name": "stdout"
        }
      ]
    },
    {
      "cell_type": "markdown",
      "metadata": {
        "id": "fRTiir87baoJ",
        "colab_type": "text"
      },
      "source": [
        "Now, we will be also using keras tokenizer function. It's function is different from sentence tokenization, as it will encode all the unique words present in the text and will provide us a dicitonary of the words being used in sentences.\n",
        "\n",
        "We will create an instance of tokenizer.\n",
        "\n",
        "The **fit_on_texts** method is used to encode the sentences.\n",
        "\n",
        "The **word_index** method returns a dictionary of key value pairs where key is the word in the sentence and the value is the label assigned to it.\n",
        "\n",
        "**Note that tokenizer lowercase the text by default, removes punctuation but we have also did that to make sure our network can understand the meaning of text.**"
      ]
    },
    {
      "cell_type": "code",
      "metadata": {
        "id": "YxPdw6BzpYjA",
        "colab_type": "code",
        "colab": {
          "base_uri": "https://localhost:8080/",
          "height": 71
        },
        "outputId": "5be1160e-5a39-425a-926c-e09f1d064e15"
      },
      "source": [
        "import tensorflow as tf\n",
        "from tensorflow import keras\n",
        "from tensorflow.keras.preprocessing.text import Tokenizer\n",
        "\n",
        "# create an instance of tokenizer and assign hyperparamter num_words\n",
        "tokenizer = Tokenizer()\n",
        "\n",
        "# to encode the sentences\n",
        "tokenizer.fit_on_texts(corpus)\n",
        "total_words = len(tokenizer.word_index) + 1\n",
        "print(total_words)\n",
        "print(tokenizer.word_index)"
      ],
      "execution_count": 9,
      "outputs": [
        {
          "output_type": "stream",
          "text": [
            "1346\n",
            "{'the': 1, 'and': 2, 'of': 3, 'to': 4, 'a': 5, 'in': 6, 'was': 7, 'he': 8, 'his': 9, 'it': 10, 'that': 11, 'i': 12, 'with': 13, 'as': 14, 'had': 15, 'which': 16, 'her': 17, 'you': 18, 'not': 19, 'surgeon': 20, 'be': 21, 'him': 22, 'at': 23, 'for': 24, 'by': 25, 'have': 26, 'on': 27, 'woman': 28, 'were': 29, 'or': 30, 'been': 31, 'said': 32, 'this': 33, 'if': 34, 'is': 35, 'man': 36, 'an': 37, 'then': 38, 'but': 39, 'door': 40, 'would': 41, 'she': 42, 'from': 43, 'young': 44, 'upon': 45, 'so': 46, 'there': 47, 'before': 48, 'now': 49, 'when': 50, 'no': 51, 'one': 52, 'through': 53, 'its': 54, 'might': 55, 'sir': 56, 'replied': 57, 'veil': 58, 'some': 59, 'my': 60, 'has': 61, 'than': 62, 'face': 63, 'all': 64, 'see': 65, 'few': 66, 'any': 67, 'such': 68, 'without': 69, 'many': 70, 'them': 71, 'time': 72, 'night': 73, 'first': 74, 'how': 75, 'could': 76, 'who': 77, 'what': 78, 'into': 79, 'black': 80, 'me': 81, 'their': 82, 'am': 83, 'even': 84, 'will': 85, 'house': 86, 'towards': 87, 'little': 88, 'cold': 89, 'more': 90, 'again': 91, 'boy': 92, 'very': 93, 'eyes': 94, 'room': 95, 'curtain': 96, 'after': 97, 'your': 98, 'say': 99, 'death': 100, 'body': 101, 'mind': 102, 'down': 103, 'hand': 104, 'up': 105, 'figure': 106, 'though': 107, 'did': 108, 'other': 109, 'life': 110, 'morning': 111, 'left': 112, 'here': 113, 'water': 114, 'thought': 115, 'moment': 116, 'visit': 117, 'place': 118, 'they': 119, 'rose': 120, 'only': 121, 'about': 122, 'out': 123, 'however': 124, 'glass': 125, 'visitor': 126, 'do': 127, 'across': 128, 'closed': 129, 'are': 130, 'stranger': 131, 'low': 132, 'own': 133, 'long': 134, 'ever': 135, 'yet': 136, 'rendered': 137, 'know': 138, 'can': 139, 'years': 140, 'old': 141, 'lay': 142, 'must': 143, 'once': 144, 'men': 145, 'within': 146, 'two': 147, 'fire': 148, 'rain': 149, 'window': 150, 'day': 151, 'make': 152, 'lady': 153, 'himself': 154, 'appearance': 155, 'almost': 156, 'part': 157, 'purpose': 158, 'stood': 159, 'beneath': 160, 'whatever': 161, 'opened': 162, 'same': 163, 'head': 164, 'ill': 165, 'person': 166, 'god': 167, 'another': 168, 'aid': 169, 'may': 170, 'human': 171, 'womans': 172, 'manner': 173, 'presented': 174, 'whom': 175, 'hands': 176, 'since': 177, 'dead': 178, 'too': 179, 'exclaimed': 180, 'heavily': 181, 'these': 182, 'people': 183, 'heard': 184, 'back': 185, 'miserable': 186, 'afterwards': 187, 'herself': 188, 'form': 189, 'close': 190, 'medical': 191, 'parlour': 192, 'mud': 193, 'half': 194, 'friends': 195, 'tell': 196, 'patient': 197, 'last': 198, 'being': 199, 'let': 200, 'instant': 201, 'perfectly': 202, 'full': 203, 'motionless': 204, 'consciousness': 205, 'having': 206, 'turned': 207, 'position': 208, 'step': 209, 'hesitate': 210, 'whose': 211, 'added': 212, 'tone': 213, 'bodily': 214, 'continued': 215, 'under': 216, 'disease': 217, 'should': 218, 'hour': 219, 'mad': 220, 'think': 221, 'dreary': 222, 'weeping': 223, 'daily': 224, 'hastily': 225, 'speak': 226, 'why': 227, 'useless': 228, 'result': 229, 'impossible': 230, 'gently': 231, 'bear': 232, 'off': 233, 'died': 234, 'cannot': 235, 'beyond': 236, 'save': 237, 'bitterly': 238, 'responsibility': 239, 'most': 240, 'great': 241, 'deal': 242, 'case': 243, 'singular': 244, 'entertained': 245, 'murdered': 246, 'five': 247, 'those': 248, 'walked': 249, 'way': 250, 'heavy': 251, 'use': 252, 'over': 253, 'we': 254, 'small': 255, 'above': 256, 'passage': 257, 'noise': 258, 'led': 259, 'minutes': 260, 'covered': 261, 'light': 262, 'bed': 263, 'dont': 264, 'year': 265, 'wind': 266, 'beating': 267, 'drops': 268, 'wet': 269, 'whole': 270, 'comfortably': 271, 'less': 272, 'imagination': 273, 'home': 274, 'found': 275, 'come': 276, 'lonely': 277, 'sleep': 278, 'voice': 279, 'soft': 280, 'tiny': 281, 'rested': 282, 'shoulder': 283, 'neither': 284, 'nor': 285, 'medicine': 286, 'messages': 287, 'starting': 288, 'certain': 289, 'dream': 290, 'pointing': 291, 'surgery': 292, 'expression': 293, 'alarm': 294, 'looked': 295, 'started': 296, 'tall': 297, 'dressed': 298, 'deep': 299, 'drawn': 300, 'height': 301, 'fixed': 302, 'gesture': 303, 'inquired': 304, 'open': 305, 'action': 306, 'still': 307, 'remained': 308, 'inclined': 309, 'pray': 310, 'walk': 311, 'moved': 312, 'turning': 313, 'direction': 314, 'leave': 315, 'large': 316, 'round': 317, 'during': 318, 'interview': 319, 'drew': 320, 'immediately': 321, 'side': 322, 'motioned': 323, 'mysterious': 324, 'pain': 325, 'myself': 326, 'alone': 327, 'hours': 328, 'lie': 329, 'ask': 330, 'present': 331, 'assistance': 332, 'bare': 333, 'shudder': 334, 'well': 335, 'knew': 336, 'desperate': 337, 'mans': 338, 'heart': 339, 'enough': 340, 'rising': 341, 'condition': 342, 'lost': 343, 'passionately': 344, 'features': 345, 'although': 346, 'fever': 347, 'feeling': 348, 'evidently': 349, 'burning': 350, 'put': 351, 'lips': 352, 'render': 353, 'ready': 354, 'burst': 355, 'short': 356, 'beside': 357, 'connected': 358, 'recollection': 359, 'natural': 360, 'dear': 361, 'deadly': 362, 'making': 363, 'anxious': 364, 'try': 365, 'progress': 366, 'believe': 367, 'suddenly': 368, 'extraordinary': 369, 'rests': 370, 'inquiries': 371, 'prospect': 372, 'effort': 373, 'witness': 374, 'repeated': 375, 'walworth': 376, 'produced': 377, 'impression': 378, 'possible': 379, 'circumstances': 380, 'common': 381, 'often': 382, 'particular': 383, 'minute': 384, 'kind': 385, 'persons': 386, 'approaching': 387, 'unable': 388, 'prevent': 389, 'idea': 390, 'metropolis': 391, 'mode': 392, 'made': 393, 'better': 394, 'poverty': 395, 'irregular': 396, 'raise': 397, 'anxiety': 398, 'occasionally': 399, 'knocked': 400, 'together': 401, 'imperfectly': 402, 'front': 403, 'damp': 404, 'objects': 405, 'object': 406, 'building': 407, 'ground': 408, 'passed': 409, 'closely': 410, 'upstairs': 411, 'london': 412, 'characters': 413, 'places': 414, 'former': 415, 'given': 416, 'succeeded': 417, 'pale': 418, 'youll': 419, 'noticed': 420, 'chairs': 421, 'brought': 422, 'stairs': 423, 'restored': 424, 'speaking': 425, 'admitted': 426, 'eye': 427, 'bedside': 428, 'arm': 429, 'feet': 430, 'beat': 431, 'oh': 432, 'away': 433, 'breast': 434, 'senseless': 435, 'fell': 436, 'undraw': 437, 'violence': 438, 'prayer': 439, 'winters': 440, 'evening': 441, 'practitioner': 442, 'recently': 443, 'established': 444, 'business': 445, 'seated': 446, 'cheerful': 447, 'listening': 448, 'pattering': 449, 'against': 450, 'rumbling': 451, 'dismally': 452, 'chimney': 453, 'walking': 454, 'reposing': 455, 'dressinggown': 456, 'slippers': 457, 'asleep': 458, 'awake': 459, 'revolving': 460, 'thousand': 461, 'matters': 462, 'wandering': 463, 'hard': 464, 'blowing': 465, 'sharp': 466, 'housed': 467, 'reverted': 468, 'annual': 469, 'christmas': 470, 'native': 471, 'dearest': 472, 'glad': 473, 'happy': 474, 'hoped': 475, 'months': 476, 'marry': 477, 'take': 478, 'gladden': 479, 'fireside': 480, 'stimulate': 481, 'fresh': 482, 'exertions': 483, 'began': 484, 'wonder': 485, 'appear': 486, 'whether': 487, 'destined': 488, 'special': 489, 'dispensation': 490, 'providence': 491, 'never': 492, 'patients': 493, 'dropped': 494, 'dreamed': 495, 'till': 496, 'tones': 497, 'sweet': 498, 'merry': 499, 'sounded': 500, 'ears': 501, 'owner': 502, 'corpulent': 503, 'roundheaded': 504, 'consideration': 505, 'sum': 506, 'shilling': 507, 'per': 508, 'week': 509, 'food': 510, 'parish': 511, 'carry': 512, 'demand': 513, 'necessity': 514, 'usually': 515, 'occupied': 516, 'unemployed': 517, 'hoursaveraging': 518, 'fourteen': 519, 'dayin': 520, 'abstracting': 521, 'peppermint': 522, 'taking': 523, 'animal': 524, 'nourishment': 525, 'going': 526, 'sira': 527, 'whispered': 528, 'rousing': 529, 'master': 530, 'shake': 531, 'cried': 532, 'our': 533, 'friend': 534, 'quite': 535, 'illusion': 536, 'expecting': 537, 'herselfwhat': 538, 'where': 539, 'leading': 540, 'unusual': 541, 'apparition': 542, 'customer': 543, 'tended': 544, 'excite': 545, 'beholding': 546, 'unlookedfor': 547, 'singularly': 548, 'mourning': 549, 'standing': 550, 'touched': 551, 'upper': 552, 'carefully': 553, 'muffled': 554, 'shawl': 555, 'concealment': 556, 'shrouded': 557, 'thick': 558, 'erect': 559, 'felt': 560, 'evinced': 561, 'slightest': 562, 'wish': 563, 'consult': 564, 'hesitation': 565, 'holding': 566, 'inwards': 567, 'therefore': 568, 'alter': 569, 'spot': 570, 'slightly': 571, 'token': 572, 'acquiescence': 573, 'forward': 574, 'boyto': 575, 'infinite': 576, 'horrorappeared': 577, 'tom': 578, 'addressing': 579, 'extended': 580, 'utmost': 581, 'width': 582, 'brief': 583, 'draw': 584, 'shut': 585, 'green': 586, 'retired': 587, 'applied': 588, 'keyhole': 589, 'chair': 590, 'seat': 591, 'slowly': 592, 'blaze': 593, 'shone': 594, 'dress': 595, 'observed': 596, 'bottom': 597, 'saturated': 598, 'compassionately': 599, 'replyvery': 600, 'mentally': 601, 'behalf': 602, 'laboured': 603, 'afflicted': 604, 'twentyfour': 605, 'hence': 606, 'knows': 607, 'gladly': 608, 'die': 609, 'beseech': 610, 'himi': 611, 'watching': 612, 'hopelessness': 613, 'availing': 614, 'laying': 615, 'grave': 616, 'makes': 617, 'blood': 618, 'run': 619, 'art': 620, 'produce': 621, 'trembled': 622, 'speakers': 623, 'frame': 624, 'earnestness': 625, 'went': 626, 'profession': 627, 'witnessed': 628, 'miseries': 629, 'members': 630, 'grown': 631, 'comparatively': 632, 'callous': 633, 'suffering': 634, 'hopeless': 635, 'describe': 636, 'go': 637, 'instantly': 638, 'obtain': 639, 'advice': 640, 'because': 641, 'beforebecause': 642, 'clasping': 643, 'gazed': 644, 'ascertain': 645, 'thickness': 646, 'enabled': 647, 'fatigue': 648, 'undergone': 649, 'pouring': 650, 'compose': 651, 'yourself': 652, 'moments': 653, 'calmly': 654, 'necessary': 655, 'serviceable': 656, 'accompany': 657, 'lifted': 658, 'mouth': 659, 'raising': 660, 'untasted': 661, 'tears': 662, 'sobbing': 663, 'aloud': 664, 'seems': 665, 'like': 666, 'ravings': 667, 'told': 668, 'kindly': 669, 'steals': 670, 'final': 671, 'remnant': 672, 'worthless': 673, 'seem': 674, 'dearer': 675, 'possessor': 676, 'gone': 677, 'oneschildren': 678, 'perhapswho': 679, 'fallen': 680, 'forgotten': 681, 'completely': 682, 'term': 683, 'longer': 684, 'account': 685, 'sighwith': 686, 'cheerfulnesswith': 687, 'joyif': 688, 'false': 689, 'imaginary': 690, 'morrow': 691, 'fain': 692, 'otherwise': 693, 'reach': 694, 'peril': 695, 'serve': 696, 'unwilling': 697, 'increase': 698, 'distress': 699, 'pause': 700, 'comment': 701, 'just': 702, 'appearing': 703, 'desirous': 704, 'investigate': 705, 'subject': 706, 'conceal': 707, 'inconsistency': 708, 'statement': 709, 'reconcile': 710, 'probability': 711, 'dying': 712, 'tonight': 713, 'possibly': 714, 'avail': 715, 'apprehend': 716, 'tomorrow': 717, 'indeed': 718, 'words': 719, 'imply': 720, 'delay': 721, 'impracticable': 722, 'help': 723, 'hope': 724, 'strangers': 725, 'appears': 726, 'incredible': 727, 'declined': 728, 'warn': 729, 'persist': 730, 'procrastination': 731, 'individual': 732, 'dies': 733, 'fearful': 734, 'rest': 735, 'somewhere': 736, 'content': 737, 'answer': 738, 'incur': 739, 'none': 740, 'acceding': 741, 'request': 742, 'address': 743, 'seen': 744, 'nine': 745, 'excuse': 746, 'pressing': 747, 'charge': 748, 'rejoinder': 749, 'gave': 750, 'instructions': 751, 'treatment': 752, 'assist': 753, 'wept': 754, 'finding': 755, 'obtaining': 756, 'information': 757, 'prolonging': 758, 'spare': 759, 'feelings': 760, 'subdued': 761, 'violent': 762, 'irrepressible': 763, 'painful': 764, 'promise': 765, 'calling': 766, 'appointed': 767, 'giving': 768, 'obscure': 769, 'entered': 770, 'readily': 771, 'believed': 772, 'considerable': 773, 'speculated': 774, 'generality': 775, 'read': 776, 'instances': 777, 'presentiment': 778, 'realised': 779, 'occurred': 780, 'anecdotes': 781, 'troubled': 782, 'foreboding': 783, 'spoke': 784, 'persona': 785, 'suppose': 786, 'mere': 787, 'delusion': 788, 'fancy': 789, 'induce': 790, 'dissolution': 791, 'terrible': 792, 'certainty': 793, 'spoken': 794, 'originally': 795, 'consenting': 796, 'party': 797, 'bound': 798, 'secrecy': 799, 'oath': 800, 'relented': 801, 'commission': 802, 'outrage': 803, 'victim': 804, 'determined': 805, 'timely': 806, 'interposition': 807, 'things': 808, 'happening': 809, 'miles': 810, 'appeared': 811, 'wild': 812, 'preposterous': 813, 'original': 814, 'intellects': 815, 'disordered': 816, 'recurred': 817, 'solving': 818, 'difficulty': 819, 'degree': 820, 'satisfaction': 821, 'obstinately': 822, 'misgivings': 823, 'point': 824, 'stole': 825, 'thoughts': 826, 'themselves': 827, 'dull': 828, 'course': 829, 'sleepless': 830, 'spite': 831, 'efforts': 832, 'contrary': 833, 'banish': 834, 'disturbed': 835, 'greatest': 836, 'distance': 837, 'town': 838, 'straggling': 839, 'days': 840, 'andthirty': 841, 'ago': 842, 'greater': 843, 'portion': 844, 'waste': 845, 'inhabited': 846, 'scattered': 847, 'questionable': 848, 'character': 849, 'prevented': 850, 'living': 851, 'neighbourhood': 852, 'pursuits': 853, 'solitude': 854, 'desirable': 855, 'houses': 856, 'sprung': 857, 'sides': 858, 'built': 859, 'until': 860, 'majority': 861, 'sprinkled': 862, 'intervals': 863, 'rudest': 864, 'description': 865, 'calculated': 866, 'spirits': 867, 'dispel': 868, 'depression': 869, 'awakened': 870, 'striking': 871, 'high': 872, 'road': 873, 'marshy': 874, 'lanes': 875, 'ruinous': 876, 'dismantled': 877, 'cottage': 878, 'fast': 879, 'falling': 880, 'pieces': 881, 'decay': 882, 'neglect': 883, 'stunted': 884, 'tree': 885, 'pool': 886, 'stagnant': 887, 'roused': 888, 'sluggish': 889, 'preceding': 890, 'skirted': 891, 'path': 892, 'patch': 893, 'gardenground': 894, 'boards': 895, 'summerhouse': 896, 'palings': 897, 'mended': 898, 'stakes': 899, 'pilfered': 900, 'neighbouring': 901, 'hedges': 902, 'bore': 903, 'testimony': 904, 'inhabitants': 905, 'scruple': 906, 'appropriating': 907, 'property': 908, 'filthylooking': 909, 'dirty': 910, 'empty': 911, 'contents': 912, 'cooking': 913, 'utensil': 914, 'gutter': 915, 'scream': 916, 'slipshod': 917, 'girl': 918, 'contrived': 919, 'stagger': 920, 'yards': 921, 'weight': 922, 'sallow': 923, 'infant': 924, 'big': 925, 'scarcely': 926, 'anything': 927, 'stirring': 928, 'around': 929, 'much': 930, 'faintly': 931, 'traced': 932, 'mist': 933, 'hung': 934, 'keeping': 935, 'described': 936, 'plodding': 937, 'wearily': 938, 'mire': 939, 'directed': 940, 'receiving': 941, 'contradictory': 942, 'unsatisfactory': 943, 'replies': 944, 'return': 945, 'length': 946, 'arrived': 947, 'pointed': 948, 'destination': 949, 'story': 950, 'desolate': 951, 'unpromising': 952, 'exterior': 953, 'yellow': 954, 'shutters': 955, 'fastened': 956, 'detached': 957, 'angle': 958, 'narrow': 959, 'lane': 960, 'habitation': 961, 'sight': 962, 'hesitated': 963, 'paces': 964, 'prevail': 965, 'lift': 966, 'knocker': 967, 'nothing': 968, 'need': 969, 'smile': 970, 'boldest': 971, 'reader': 972, 'police': 973, 'different': 974, 'isolated': 975, 'suburbs': 976, 'rage': 977, 'improvement': 978, 'begun': 979, 'connect': 980, 'main': 981, 'city': 982, 'environs': 983, 'resort': 984, 'worst': 985, 'depraved': 986, 'streets': 987, 'gayest': 988, 'parts': 989, 'lighted': 990, 'entirely': 991, 'mercy': 992, 'moon': 993, 'stars': 994, 'chances': 995, 'detecting': 996, 'tracing': 997, 'haunts': 998, 'thus': 999, 'offences': 1000, 'naturally': 1001, 'increased': 1002, 'boldness': 1003, 'comparative': 1004, 'security': 1005, 'became': 1006, 'impressed': 1007, 'experience': 1008, 'considerations': 1009, 'remembered': 1010, 'spent': 1011, 'public': 1012, 'hospitals': 1013, 'burke': 1014, 'bishop': 1015, 'gained': 1016, 'horrible': 1017, 'notoriety': 1018, 'observation': 1019, 'suggested': 1020, 'easily': 1021, 'atrocities': 1022, 'name': 1023, 'committed': 1024, 'reflection': 1025, 'strong': 1026, 'personal': 1027, 'courage': 1028, 'instanthe': 1029, 'stepped': 1030, 'briskly': 1031, 'whispering': 1032, 'audible': 1033, 'end': 1034, 'conversing': 1035, 'stealthily': 1036, 'landing': 1037, 'pair': 1038, 'boots': 1039, 'floor': 1040, 'doorchain': 1041, 'softly': 1042, 'unfastened': 1043, 'illfavoured': 1044, 'hair': 1045, 'declared': 1046, 'haggard': 1047, 'countenance': 1048, 'saw': 1049, 'secured': 1050, 'chain': 1051, 'extremity': 1052, 'soon': 1053, 'astonishment': 1054, 'unmixed': 1055, 'repress': 1056, 'actionif': 1057, 'wont': 1058, 'detained': 1059, 'assure': 1060, 'furniture': 1061, 'table': 1062, 'material': 1063, 'handful': 1064, 'unguarded': 1065, 'fender': 1066, 'grate': 1067, 'served': 1068, 'comfortable': 1069, 'unwholesome': 1070, 'moisture': 1071, 'stealing': 1072, 'walls': 1073, 'sluglike': 1074, 'tracks': 1075, 'broken': 1076, 'patched': 1077, 'enclosed': 1078, 'piece': 1079, 'sound': 1080, 'either': 1081, 'sat': 1082, 'fireplace': 1083, 'await': 1084, 'professional': 1085, 'vehicle': 1086, 'struck': 1087, 'ear': 1088, 'stopped': 1089, 'streetdoor': 1090, 'talking': 1091, 'accompanied': 1092, 'shuffling': 1093, 'footsteps': 1094, 'along': 1095, 'three': 1096, 'engaged': 1097, 'carrying': 1098, 'creaking': 1099, 'seconds': 1100, 'announced': 1101, 'newcomers': 1102, 'completed': 1103, 'task': 1104, 'leaving': 1105, 'silence': 1106, 'elapsed': 1107, 'resolved': 1108, 'explore': 1109, 'search': 1110, 'errand': 1111, 'known': 1112, 'roomdoor': 1113, 'nights': 1114, 'exactly': 1115, 'lowered': 1116, 'advance': 1117, 'coupled': 1118, 'circumstance': 1119, 'caused': 1120, 'pass': 1121, 'brain': 1122, 'disguised': 1123, 'attire': 1124, 'hysteric': 1125, 'sobs': 1126, 'issued': 1127, 'convulsive': 1128, 'attitude': 1129, 'grief': 1130, 'exposed': 1131, 'absurdity': 1132, 'suspicion': 1133, 'followed': 1134, 'paused': 1135, 'enter': 1136, 'scantily': 1137, 'furnished': 1138, 'box': 1139, 'tent': 1140, 'bedstead': 1141, 'hangings': 1142, 'crossrails': 1143, 'patchwork': 1144, 'counterpane': 1145, 'dim': 1146, 'outside': 1147, 'indistinct': 1148, 'communicated': 1149, 'uniform': 1150, 'hue': 1151, 'perceive': 1152, 'rushed': 1153, 'frantically': 1154, 'past': 1155, 'flung': 1156, 'knees': 1157, 'stretched': 1158, 'enveloped': 1159, 'linen': 1160, 'wrapper': 1161, 'blankets': 1162, 'stiff': 1163, 'uncovered': 1164, 'bandage': 1165, 'chin': 1166, 'held': 1167, 'passive': 1168, 'pushed': 1169, 'aside': 1170, 'took': 1171, 'letting': 1172, 'fall': 1173, 'involuntarilythe': 1174, 'passion': 1175, 'amounting': 1176, 'frenzy': 1177, 'cant': 1178, 'unskilful': 1179, 'proper': 1180, 'means': 1181, 'resorted': 1182, 'passing': 1183, 'sirdo': 1184, 'heavens': 1185, 'sakeand': 1186, 'while': 1187, 'hurriedly': 1188, 'chafed': 1189, 'forehead': 1190, 'wildly': 1191, 'ceased': 1192, 'hold': 1193, 'listlessly': 1194, 'coverlet': 1195, 'good': 1196, 'soothingly': 1197, 'withdrew': 1198, 'stayundraw': 1199, 'agitated': 1200, 'darkened': 1201, 'throwing': 1202, 'itoh': 1203, 'pity': 1204, 'really': 1205, 'expose': 1206, 'mine': 1207, 'easy': 1208, 'motion': 1209, 'sudden': 1210, 'hardly': 1211, 'slipped': 1212, 'tore': 1213, 'returned': 1214, 'gazing': 1215, 'intently': 1216, 'removed': 1217, 'excitement': 1218, 'female': 1219, 'thrown': 1220, 'bonnet': 1221, 'fifty': 1222, 'handsome': 1223, 'sorrow': 1224, 'traces': 1225, 'itself': 1226, 'nervous': 1227, 'contortion': 1228, 'lip': 1229, 'unnatural': 1230, 'showed': 1231, 'plainly': 1232, 'mental': 1233, 'powers': 1234, 'nearly': 1235, 'sunk': 1236, 'accumulation': 1237, 'misery': 1238, 'preserving': 1239, 'searching': 1240, 'glance': 1241, 'call': 1242, 'pitilessly': 1243, 'inhumanly': 1244, 'seizing': 1245, 'look': 1246, 'butchers': 1247, 'marks': 1248, 'bent': 1249, 'throat': 1250, 'swollen': 1251, 'livid': 1252, 'mark': 1253, 'encircled': 1254, 'truth': 1255, 'flashed': 1256, 'hanged': 1257, 'unmeaning': 1258, 'stare': 1259, 'son': 1260, 'rejoined': 1261, 'true': 1262, 'companion': 1263, 'equally': 1264, 'guilty': 1265, 'acquitted': 1266, 'want': 1267, 'evidence': 1268, 'executed': 1269, 'recount': 1270, 'distant': 1271, 'period': 1272, 'unnecessary': 1273, 'give': 1274, 'alive': 1275, 'history': 1276, 'everyday': 1277, 'mother': 1278, 'widow': 1279, 'money': 1280, 'denied': 1281, 'necessaries': 1282, 'bestow': 1283, 'orphan': 1284, 'unmindful': 1285, 'prayers': 1286, 'forgetful': 1287, 'sufferings': 1288, 'endured': 1289, 'himincessant': 1290, 'voluntary': 1291, 'starvation': 1292, 'plunged': 1293, 'career': 1294, 'dissipation': 1295, 'crime': 1296, 'hangmans': 1297, 'mothers': 1298, 'shame': 1299, 'incurable': 1300, 'insanity': 1301, 'occurrence': 1302, 'profitable': 1303, 'arduous': 1304, 'avocations': 1305, 'forget': 1306, 'existed': 1307, 'harmless': 1308, 'soothing': 1309, 'presence': 1310, 'kindness': 1311, 'alleviating': 1312, 'rigour': 1313, 'pecuniary': 1314, 'donations': 1315, 'comfort': 1316, 'support': 1317, 'bestowed': 1318, 'sparing': 1319, 'transient': 1320, 'gleam': 1321, 'preceded': 1322, 'welfare': 1323, 'protection': 1324, 'fervent': 1325, 'mortal': 1326, 'breathed': 1327, 'poor': 1328, 'friendless': 1329, 'creature': 1330, 'flew': 1331, 'heaven': 1332, 'blessings': 1333, 'instrumental': 1334, 'conferring': 1335, 'repaid': 1336, 'thousandfold': 1337, 'amid': 1338, 'honours': 1339, 'rank': 1340, 'station': 1341, 'heaped': 1342, 'earned': 1343, 'reminiscence': 1344, 'gratifying': 1345}\n"
          ],
          "name": "stdout"
        }
      ]
    },
    {
      "cell_type": "markdown",
      "metadata": {
        "id": "5G_F9LuudPJ-",
        "colab_type": "text"
      },
      "source": [
        "The tokenizer is initialized and data in the form of sentences separated by a \"\\n\" is provided. The individual sentences are retrieved and stored as list item in the \"corpus\" list using the split method. The words in the list are tokenized and labeled using the fit_on_texts method. \n",
        "\n",
        "The next loop takes the **entire encoded sentence and breaks it down into an n_gram_sequence and appends each sequence into the input_sequences list**. Each row in the \"Input Sequences\" gives an n_gram_sequence"
      ]
    },
    {
      "cell_type": "code",
      "metadata": {
        "id": "W0FtJY3IppcU",
        "colab_type": "code",
        "colab": {}
      },
      "source": [
        "input_sequences = []\n",
        "for line in corpus:\n",
        "  token_list = tokenizer.texts_to_sequences([line])[0]\n",
        "  for i in range(1, len(token_list)):\n",
        "    n_gram_sequence = token_list[:i+1]\n",
        "    input_sequences.append(n_gram_sequence)"
      ],
      "execution_count": 0,
      "outputs": []
    },
    {
      "cell_type": "markdown",
      "metadata": {
        "id": "nmTpbA3miZak",
        "colab_type": "text"
      },
      "source": [
        "We then try to identify the length of the largest sentence by iterting through all the available Input Sequences"
      ]
    },
    {
      "cell_type": "code",
      "metadata": {
        "id": "HTwreGdtqDt5",
        "colab_type": "code",
        "colab": {
          "base_uri": "https://localhost:8080/",
          "height": 34
        },
        "outputId": "4f4c1953-b0ae-44ef-b50f-ea90991a0724"
      },
      "source": [
        "max_sequence_len = max([len(x) for x in input_sequences])\n",
        "max_sequence_len"
      ],
      "execution_count": 11,
      "outputs": [
        {
          "output_type": "execute_result",
          "data": {
            "text/plain": [
              "25"
            ]
          },
          "metadata": {
            "tags": []
          },
          "execution_count": 11
        }
      ]
    },
    {
      "cell_type": "markdown",
      "metadata": {
        "id": "k2bR7Zliiin_",
        "colab_type": "text"
      },
      "source": [
        "Once the length of the largest sentence is identified, we pre pad the Input Sequences. So, that we would have entire training data to the left side of each Input Sequence and the label representing it to the right. \n",
        "\n",
        "As, we are predicting the word at the end of each sentence, we consider the last word of each Input Sequence as the target label that is to be predicted"
      ]
    },
    {
      "cell_type": "code",
      "metadata": {
        "id": "LKZG4194qPLF",
        "colab_type": "code",
        "colab": {}
      },
      "source": [
        "import numpy as np\n",
        "from tensorflow.keras.preprocessing.sequence import pad_sequences\n",
        "\n",
        "input_sequences = np.array(pad_sequences(input_sequences, maxlen=max_sequence_len, padding='pre'))"
      ],
      "execution_count": 0,
      "outputs": []
    },
    {
      "cell_type": "code",
      "metadata": {
        "id": "Vdr7XY5qqPAP",
        "colab_type": "code",
        "colab": {
          "base_uri": "https://localhost:8080/",
          "height": 136
        },
        "outputId": "2327debc-9f25-48b1-b379-b4311d21a797"
      },
      "source": [
        "input_sequences"
      ],
      "execution_count": 13,
      "outputs": [
        {
          "output_type": "execute_result",
          "data": {
            "text/plain": [
              "array([[  0,   0,   0, ...,   0,  52, 440],\n",
              "       [  0,   0,   0, ...,  52, 440, 441],\n",
              "       [  0,   0,   0, ..., 440, 441,  87],\n",
              "       ...,\n",
              "       [  0,   0,   0, ..., 358,  13,   1],\n",
              "       [  0,   0,   0, ...,  13,   1,  80],\n",
              "       [  0,   0,   0, ...,   1,  80,  58]], dtype=int32)"
            ]
          },
          "metadata": {
            "tags": []
          },
          "execution_count": 13
        }
      ]
    },
    {
      "cell_type": "markdown",
      "metadata": {
        "id": "Q8KjuatGi8It",
        "colab_type": "text"
      },
      "source": [
        "Now we begin to segregate the Input Sequences by collecting all the encoded words following upto the last word as the input to the model and the last encoded word as the target label and store both of them in separate lists."
      ]
    },
    {
      "cell_type": "code",
      "metadata": {
        "id": "W0NMBEMCqX2d",
        "colab_type": "code",
        "colab": {
          "base_uri": "https://localhost:8080/",
          "height": 136
        },
        "outputId": "33f90964-a16f-43a9-b35c-d04716024ffa"
      },
      "source": [
        "xs = input_sequences[:, :-1]\n",
        "xs"
      ],
      "execution_count": 14,
      "outputs": [
        {
          "output_type": "execute_result",
          "data": {
            "text/plain": [
              "array([[  0,   0,   0, ...,   0,   0,  52],\n",
              "       [  0,   0,   0, ...,   0,  52, 440],\n",
              "       [  0,   0,   0, ...,  52, 440, 441],\n",
              "       ...,\n",
              "       [  0,   0,   0, ...,  11, 358,  13],\n",
              "       [  0,   0,   0, ..., 358,  13,   1],\n",
              "       [  0,   0,   0, ...,  13,   1,  80]], dtype=int32)"
            ]
          },
          "metadata": {
            "tags": []
          },
          "execution_count": 14
        }
      ]
    },
    {
      "cell_type": "code",
      "metadata": {
        "id": "Cn_aK-o-qbIi",
        "colab_type": "code",
        "colab": {
          "base_uri": "https://localhost:8080/",
          "height": 34
        },
        "outputId": "288917b8-818b-4e9b-cfec-63effe2937d2"
      },
      "source": [
        "labels = input_sequences[:,-1]\n",
        "labels"
      ],
      "execution_count": 15,
      "outputs": [
        {
          "output_type": "execute_result",
          "data": {
            "text/plain": [
              "array([440, 441,  87, ...,   1,  80,  58], dtype=int32)"
            ]
          },
          "metadata": {
            "tags": []
          },
          "execution_count": 15
        }
      ]
    },
    {
      "cell_type": "markdown",
      "metadata": {
        "id": "VFdhYJe9jL9E",
        "colab_type": "text"
      },
      "source": [
        "Since, this is a multi-class classification model, we one-hot encode it using the to_categorical function"
      ]
    },
    {
      "cell_type": "code",
      "metadata": {
        "id": "U8teO9F9qcXy",
        "colab_type": "code",
        "colab": {
          "base_uri": "https://localhost:8080/",
          "height": 136
        },
        "outputId": "74d7b52e-6fdf-41fb-d652-341477e2d006"
      },
      "source": [
        "ys = tf.keras.utils.to_categorical(labels, num_classes=total_words)\n",
        "ys"
      ],
      "execution_count": 16,
      "outputs": [
        {
          "output_type": "execute_result",
          "data": {
            "text/plain": [
              "array([[0., 0., 0., ..., 0., 0., 0.],\n",
              "       [0., 0., 0., ..., 0., 0., 0.],\n",
              "       [0., 0., 0., ..., 0., 0., 0.],\n",
              "       ...,\n",
              "       [0., 1., 0., ..., 0., 0., 0.],\n",
              "       [0., 0., 0., ..., 0., 0., 0.],\n",
              "       [0., 0., 0., ..., 0., 0., 0.]], dtype=float32)"
            ]
          },
          "metadata": {
            "tags": []
          },
          "execution_count": 16
        }
      ]
    },
    {
      "cell_type": "markdown",
      "metadata": {
        "id": "AUON3FIajYfw",
        "colab_type": "text"
      },
      "source": [
        "Model training:\n",
        "---\n",
        "It's time to create and train neural network to predict what comes next in a sequence of words. But first, before designing a neural network, we need to realize the scenario in which we are going to use it.\n",
        "\n",
        "The text is consider to be a sequence of words where each word is semantically connected with another to make a sentence. So, we will need some kind of memory to model our network so that it can learn the representation of sentence. As **the task is to predict the next word in a sequence, the network will be able to learn the representation of the sequence**\n",
        "\n",
        "Sequential data like this is why we build recurrent neural networks. **Recurrent neural network is a type of neural network in which hidden layer is a combination of your input data at the current timestep and the hidden layer of the previous timestep**.\n",
        "\n",
        "The network takes the first word and feeds it into a neural network layer which predicts an output. This process is repeated until the last time step which generates the last output. **The RNN scans through the data in a left to right sequence as well as it shares the parameters between input and output hidden layer**\n",
        "\n",
        "Other than that, we will be using an Embedding Layer to learn the representation of words, **this is the type of layer that allows words with similar meaning to have a similar representation in space**.\n",
        "\n",
        "There are different ways to learn a word embedding from text data. In this section, we will use Embedding layer, one of the advantages of embedding layer is that it learned jointly with a neural netwok model on a specific natural language processing task\n",
        "\n",
        "We will also be using a Long Short-Term Memory (LSTM) hidden layer, it has an **additonal pipeline of context called cell state which passes through the network. This helps to keep the context from earlier tokens or steps relevant in later ones**.\n",
        "\n",
        "The output layer is a Dense layer using the **softmax** activation function to output a probability prediction for total words using **categorical cross entropy loss using adam optimization algorithm**"
      ]
    },
    {
      "cell_type": "code",
      "metadata": {
        "id": "ld2trIGBqgIE",
        "colab_type": "code",
        "colab": {
          "base_uri": "https://localhost:8080/",
          "height": 1000
        },
        "outputId": "3fa94670-ba98-47bb-b6f8-cfee72c1c3be"
      },
      "source": [
        "model = tf.keras.Sequential()\n",
        "model.add(tf.keras.layers.Embedding(total_words, 64, input_length=max_sequence_len - 1))\n",
        "model.add((tf.keras.layers.LSTM(20)))\n",
        "model.add(tf.keras.layers.Dense(total_words, activation='softmax'))\n",
        "model.compile(loss='categorical_crossentropy', optimizer='adam', metrics=['accuracy'])\n",
        "history = model.fit(xs, ys, epochs=50, verbose=1)"
      ],
      "execution_count": 17,
      "outputs": [
        {
          "output_type": "stream",
          "text": [
            "Epoch 1/50\n",
            "126/126 [==============================] - 2s 13ms/step - loss: 6.7228 - accuracy: 0.0715\n",
            "Epoch 2/50\n",
            "126/126 [==============================] - 2s 14ms/step - loss: 5.9775 - accuracy: 0.0777\n",
            "Epoch 3/50\n",
            "126/126 [==============================] - 2s 13ms/step - loss: 5.8821 - accuracy: 0.0777\n",
            "Epoch 4/50\n",
            "126/126 [==============================] - 2s 14ms/step - loss: 5.7921 - accuracy: 0.0777\n",
            "Epoch 5/50\n",
            "126/126 [==============================] - 2s 13ms/step - loss: 5.7313 - accuracy: 0.0777\n",
            "Epoch 6/50\n",
            "126/126 [==============================] - 2s 14ms/step - loss: 5.6870 - accuracy: 0.0777\n",
            "Epoch 7/50\n",
            "126/126 [==============================] - 2s 13ms/step - loss: 5.6562 - accuracy: 0.0777\n",
            "Epoch 8/50\n",
            "126/126 [==============================] - 2s 13ms/step - loss: 5.6302 - accuracy: 0.0777\n",
            "Epoch 9/50\n",
            "126/126 [==============================] - 2s 13ms/step - loss: 5.6103 - accuracy: 0.0777\n",
            "Epoch 10/50\n",
            "126/126 [==============================] - 2s 14ms/step - loss: 5.5912 - accuracy: 0.0777\n",
            "Epoch 11/50\n",
            "126/126 [==============================] - 2s 14ms/step - loss: 5.5715 - accuracy: 0.0812\n",
            "Epoch 12/50\n",
            "126/126 [==============================] - 2s 13ms/step - loss: 5.5531 - accuracy: 0.0841\n",
            "Epoch 13/50\n",
            "126/126 [==============================] - 2s 13ms/step - loss: 5.5339 - accuracy: 0.0841\n",
            "Epoch 14/50\n",
            "126/126 [==============================] - 2s 13ms/step - loss: 5.5147 - accuracy: 0.0841\n",
            "Epoch 15/50\n",
            "126/126 [==============================] - 2s 14ms/step - loss: 5.4940 - accuracy: 0.0841\n",
            "Epoch 16/50\n",
            "126/126 [==============================] - 2s 13ms/step - loss: 5.4752 - accuracy: 0.0841\n",
            "Epoch 17/50\n",
            "126/126 [==============================] - 2s 13ms/step - loss: 5.4552 - accuracy: 0.0841\n",
            "Epoch 18/50\n",
            "126/126 [==============================] - 2s 13ms/step - loss: 5.4346 - accuracy: 0.0844\n",
            "Epoch 19/50\n",
            "126/126 [==============================] - 2s 14ms/step - loss: 5.4132 - accuracy: 0.0851\n",
            "Epoch 20/50\n",
            "126/126 [==============================] - 2s 14ms/step - loss: 5.3914 - accuracy: 0.0851\n",
            "Epoch 21/50\n",
            "126/126 [==============================] - 2s 14ms/step - loss: 5.3705 - accuracy: 0.0851\n",
            "Epoch 22/50\n",
            "126/126 [==============================] - 2s 13ms/step - loss: 5.3478 - accuracy: 0.0851\n",
            "Epoch 23/50\n",
            "126/126 [==============================] - 2s 13ms/step - loss: 5.3241 - accuracy: 0.0851\n",
            "Epoch 24/50\n",
            "126/126 [==============================] - 2s 14ms/step - loss: 5.2995 - accuracy: 0.0854\n",
            "Epoch 25/50\n",
            "126/126 [==============================] - 2s 13ms/step - loss: 5.2714 - accuracy: 0.0891\n",
            "Epoch 26/50\n",
            "126/126 [==============================] - 2s 13ms/step - loss: 5.2412 - accuracy: 0.0901\n",
            "Epoch 27/50\n",
            "126/126 [==============================] - 2s 14ms/step - loss: 5.2086 - accuracy: 0.0936\n",
            "Epoch 28/50\n",
            "126/126 [==============================] - 2s 14ms/step - loss: 5.1754 - accuracy: 0.1025\n",
            "Epoch 29/50\n",
            "126/126 [==============================] - 2s 13ms/step - loss: 5.1422 - accuracy: 0.1070\n",
            "Epoch 30/50\n",
            "126/126 [==============================] - 2s 13ms/step - loss: 5.1081 - accuracy: 0.1162\n",
            "Epoch 31/50\n",
            "126/126 [==============================] - 2s 13ms/step - loss: 5.0758 - accuracy: 0.1221\n",
            "Epoch 32/50\n",
            "126/126 [==============================] - 2s 13ms/step - loss: 5.0416 - accuracy: 0.1271\n",
            "Epoch 33/50\n",
            "126/126 [==============================] - 2s 13ms/step - loss: 5.0076 - accuracy: 0.1268\n",
            "Epoch 34/50\n",
            "126/126 [==============================] - 2s 15ms/step - loss: 4.9737 - accuracy: 0.1293\n",
            "Epoch 35/50\n",
            "126/126 [==============================] - 2s 13ms/step - loss: 4.9400 - accuracy: 0.1318\n",
            "Epoch 36/50\n",
            "126/126 [==============================] - 2s 13ms/step - loss: 4.9072 - accuracy: 0.1318\n",
            "Epoch 37/50\n",
            "126/126 [==============================] - 2s 14ms/step - loss: 4.8726 - accuracy: 0.1373\n",
            "Epoch 38/50\n",
            "126/126 [==============================] - 2s 13ms/step - loss: 4.8374 - accuracy: 0.1360\n",
            "Epoch 39/50\n",
            "126/126 [==============================] - 2s 13ms/step - loss: 4.8012 - accuracy: 0.1402\n",
            "Epoch 40/50\n",
            "126/126 [==============================] - 2s 13ms/step - loss: 4.7644 - accuracy: 0.1449\n",
            "Epoch 41/50\n",
            "126/126 [==============================] - 2s 13ms/step - loss: 4.7268 - accuracy: 0.1519\n",
            "Epoch 42/50\n",
            "126/126 [==============================] - 2s 13ms/step - loss: 4.6903 - accuracy: 0.1566\n",
            "Epoch 43/50\n",
            "126/126 [==============================] - 2s 13ms/step - loss: 4.6524 - accuracy: 0.1628\n",
            "Epoch 44/50\n",
            "126/126 [==============================] - 2s 15ms/step - loss: 4.6149 - accuracy: 0.1762\n",
            "Epoch 45/50\n",
            "126/126 [==============================] - 2s 13ms/step - loss: 4.5767 - accuracy: 0.1827\n",
            "Epoch 46/50\n",
            "126/126 [==============================] - 2s 13ms/step - loss: 4.5386 - accuracy: 0.1869\n",
            "Epoch 47/50\n",
            "126/126 [==============================] - 2s 14ms/step - loss: 4.5010 - accuracy: 0.1899\n",
            "Epoch 48/50\n",
            "126/126 [==============================] - 2s 13ms/step - loss: 4.4628 - accuracy: 0.1941\n",
            "Epoch 49/50\n",
            "126/126 [==============================] - 2s 13ms/step - loss: 4.4257 - accuracy: 0.1983\n",
            "Epoch 50/50\n",
            "126/126 [==============================] - 2s 14ms/step - loss: 4.3885 - accuracy: 0.2005\n"
          ],
          "name": "stdout"
        }
      ]
    },
    {
      "cell_type": "code",
      "metadata": {
        "id": "g2B0JAok8lxr",
        "colab_type": "code",
        "colab": {
          "base_uri": "https://localhost:8080/",
          "height": 541
        },
        "outputId": "ea24d2f7-8a1a-48ca-fae3-c2579ff844a7"
      },
      "source": [
        "import matplotlib.pyplot as plt\n",
        "\n",
        "def plot_graphs(history, string):\n",
        "  plt.plot(history.history[string])\n",
        "  plt.xlabel(\"Epochs\")\n",
        "  plt.ylabel(string)\n",
        "  plt.show()\n",
        "\n",
        "plot_graphs(history, \"accuracy\")\n",
        "plot_graphs(history, \"loss\")"
      ],
      "execution_count": 18,
      "outputs": [
        {
          "output_type": "display_data",
          "data": {
            "image/png": "[encoded data removed]",
            "text/plain": [
              "<Figure size 432x288 with 1 Axes>"
            ]
          },
          "metadata": {
            "tags": [],
            "needs_background": "light"
          }
        },
        {
          "output_type": "display_data",
          "data": {
            "image/png": "[encoded data removed]",
            "text/plain": [
              "<Figure size 432x288 with 1 Axes>"
            ]
          },
          "metadata": {
            "tags": [],
            "needs_background": "light"
          }
        }
      ]
    },
    {
      "cell_type": "markdown",
      "metadata": {
        "id": "-J_N2tlU-zaJ",
        "colab_type": "text"
      },
      "source": [
        "As we can see after training for 50 epochs, 1 layer LSTM network seems to have jaggedy surface, that means it is underfitting to the text. we can simply deal **with it by increasing the number of epochs or increasing the learning rate.**\n",
        "\n",
        "We can now try to predict the next word in a sentence by giving it an initial set of words, convert it into sequences, pad the sentence to predict a large number of words following an input sentence."
      ]
    },
    {
      "cell_type": "code",
      "metadata": {
        "id": "pxlG-hBiqqAl",
        "colab_type": "code",
        "colab": {
          "base_uri": "https://localhost:8080/",
          "height": 105
        },
        "outputId": "c34e461c-0ccc-4e34-9eb5-1a5df46cd07c"
      },
      "source": [
        "seed_text = \"towards the close\"\n",
        "next_words = 10\n",
        "\n",
        "for _ in range(next_words):\n",
        "  token_list = tokenizer.texts_to_sequences([seed_text])[0]\n",
        "  token_list = pad_sequences([token_list], maxlen=max_sequence_len - 1, padding='pre')\n",
        "  predicted = model.predict_classes(token_list, verbose=0)\n",
        "  output_word = \"\"\n",
        "  for word, index in tokenizer.word_index.items():\n",
        "    if index == predicted:\n",
        "      output_word = word\n",
        "      break\n",
        "  seed_text += \" \" + output_word\n",
        "print(seed_text)"
      ],
      "execution_count": 19,
      "outputs": [
        {
          "output_type": "stream",
          "text": [
            "WARNING:tensorflow:From <ipython-input-19-bdb06cfb935e>:7: Sequential.predict_classes (from tensorflow.python.keras.engine.sequential) is deprecated and will be removed after 2021-01-01.\n",
            "Instructions for updating:\n",
            "Please use instead:* `np.argmax(model.predict(x), axis=-1)`,   if your model does multi-class classification   (e.g. if it uses a `softmax` last-layer activation).* `(model.predict(x) > 0.5).astype(\"int32\")`,   if your model does binary classification   (e.g. if it uses a `sigmoid` last-layer activation).\n",
            "towards the close of the surgeon at the surgeon at the surgeon at\n"
          ],
          "name": "stdout"
        }
      ]
    },
    {
      "cell_type": "markdown",
      "metadata": {
        "id": "2q8pu-Zi9lNr",
        "colab_type": "text"
      },
      "source": [
        "Also, certain words that have been predicted tend to get replaced at the end. This is because the **LSTM layer used in the model is uni-directional and the same word once predicted continues to pass forward influencing the words being predicted later in the sentence**. One way to deal with this problem is to use a bi-directional LSTM layer so that the words present even after the target word influences the prediction."
      ]
    },
    {
      "cell_type": "code",
      "metadata": {
        "id": "CBh46LXe9_Ig",
        "colab_type": "code",
        "colab": {
          "base_uri": "https://localhost:8080/",
          "height": 1000
        },
        "outputId": "3da49aea-ccb0-4cd3-d910-2f1997ab2a2f"
      },
      "source": [
        "model = tf.keras.Sequential()\n",
        "model.add(tf.keras.layers.Embedding(total_words, 64, input_length=max_sequence_len - 1))\n",
        "model.add(tf.keras.layers.Bidirectional(tf.keras.layers.LSTM(20)))\n",
        "model.add(tf.keras.layers.Dense(total_words, activation='softmax'))\n",
        "model.compile(loss='categorical_crossentropy', optimizer='adam', metrics=['accuracy'])\n",
        "history = model.fit(xs, ys, epochs=50, verbose=1)"
      ],
      "execution_count": 20,
      "outputs": [
        {
          "output_type": "stream",
          "text": [
            "Epoch 1/50\n",
            "126/126 [==============================] - 2s 19ms/step - loss: 6.5677 - accuracy: 0.0712\n",
            "Epoch 2/50\n",
            "126/126 [==============================] - 2s 18ms/step - loss: 5.9494 - accuracy: 0.0777\n",
            "Epoch 3/50\n",
            "126/126 [==============================] - 2s 19ms/step - loss: 5.8374 - accuracy: 0.0777\n",
            "Epoch 4/50\n",
            "126/126 [==============================] - 2s 18ms/step - loss: 5.7548 - accuracy: 0.0777\n",
            "Epoch 5/50\n",
            "126/126 [==============================] - 2s 18ms/step - loss: 5.6905 - accuracy: 0.0777\n",
            "Epoch 6/50\n",
            "126/126 [==============================] - 2s 18ms/step - loss: 5.6372 - accuracy: 0.0812\n",
            "Epoch 7/50\n",
            "126/126 [==============================] - 2s 18ms/step - loss: 5.5959 - accuracy: 0.0841\n",
            "Epoch 8/50\n",
            "126/126 [==============================] - 2s 18ms/step - loss: 5.5607 - accuracy: 0.0841\n",
            "Epoch 9/50\n",
            "126/126 [==============================] - 2s 18ms/step - loss: 5.5273 - accuracy: 0.0846\n",
            "Epoch 10/50\n",
            "126/126 [==============================] - 2s 19ms/step - loss: 5.4996 - accuracy: 0.0911\n",
            "Epoch 11/50\n",
            "126/126 [==============================] - 2s 18ms/step - loss: 5.4688 - accuracy: 0.0998\n",
            "Epoch 12/50\n",
            "126/126 [==============================] - 2s 18ms/step - loss: 5.4405 - accuracy: 0.0980\n",
            "Epoch 13/50\n",
            "126/126 [==============================] - 2s 19ms/step - loss: 5.4103 - accuracy: 0.1030\n",
            "Epoch 14/50\n",
            "126/126 [==============================] - 2s 18ms/step - loss: 5.3773 - accuracy: 0.1050\n",
            "Epoch 15/50\n",
            "126/126 [==============================] - 2s 18ms/step - loss: 5.3380 - accuracy: 0.1042\n",
            "Epoch 16/50\n",
            "126/126 [==============================] - 2s 18ms/step - loss: 5.2893 - accuracy: 0.1057\n",
            "Epoch 17/50\n",
            "126/126 [==============================] - 2s 19ms/step - loss: 5.2386 - accuracy: 0.1070\n",
            "Epoch 18/50\n",
            "126/126 [==============================] - 2s 18ms/step - loss: 5.1804 - accuracy: 0.1090\n",
            "Epoch 19/50\n",
            "126/126 [==============================] - 2s 20ms/step - loss: 5.1175 - accuracy: 0.1097\n",
            "Epoch 20/50\n",
            "126/126 [==============================] - 2s 19ms/step - loss: 5.0519 - accuracy: 0.1122\n",
            "Epoch 21/50\n",
            "126/126 [==============================] - 2s 19ms/step - loss: 4.9840 - accuracy: 0.1149\n",
            "Epoch 22/50\n",
            "126/126 [==============================] - 2s 19ms/step - loss: 4.9118 - accuracy: 0.1196\n",
            "Epoch 23/50\n",
            "126/126 [==============================] - 2s 18ms/step - loss: 4.8486 - accuracy: 0.1231\n",
            "Epoch 24/50\n",
            "126/126 [==============================] - 2s 18ms/step - loss: 4.7782 - accuracy: 0.1263\n",
            "Epoch 25/50\n",
            "126/126 [==============================] - 2s 18ms/step - loss: 4.7166 - accuracy: 0.1323\n",
            "Epoch 26/50\n",
            "126/126 [==============================] - 2s 18ms/step - loss: 4.6488 - accuracy: 0.1380\n",
            "Epoch 27/50\n",
            "126/126 [==============================] - 2s 18ms/step - loss: 4.5863 - accuracy: 0.1457\n",
            "Epoch 28/50\n",
            "126/126 [==============================] - 2s 18ms/step - loss: 4.5384 - accuracy: 0.1529\n",
            "Epoch 29/50\n",
            "126/126 [==============================] - 2s 18ms/step - loss: 4.4851 - accuracy: 0.1576\n",
            "Epoch 30/50\n",
            "126/126 [==============================] - 2s 18ms/step - loss: 4.4302 - accuracy: 0.1576\n",
            "Epoch 31/50\n",
            "126/126 [==============================] - 2s 18ms/step - loss: 4.3745 - accuracy: 0.1643\n",
            "Epoch 32/50\n",
            "126/126 [==============================] - 2s 18ms/step - loss: 4.3224 - accuracy: 0.1713\n",
            "Epoch 33/50\n",
            "126/126 [==============================] - 2s 18ms/step - loss: 4.2728 - accuracy: 0.1725\n",
            "Epoch 34/50\n",
            "126/126 [==============================] - 2s 18ms/step - loss: 4.2134 - accuracy: 0.1747\n",
            "Epoch 35/50\n",
            "126/126 [==============================] - 2s 18ms/step - loss: 4.1572 - accuracy: 0.1802\n",
            "Epoch 36/50\n",
            "126/126 [==============================] - 2s 18ms/step - loss: 4.1090 - accuracy: 0.1822\n",
            "Epoch 37/50\n",
            "126/126 [==============================] - 2s 18ms/step - loss: 4.0649 - accuracy: 0.1948\n",
            "Epoch 38/50\n",
            "126/126 [==============================] - 2s 18ms/step - loss: 4.0137 - accuracy: 0.1951\n",
            "Epoch 39/50\n",
            "126/126 [==============================] - 2s 18ms/step - loss: 3.9687 - accuracy: 0.2043\n",
            "Epoch 40/50\n",
            "126/126 [==============================] - 2s 18ms/step - loss: 3.9267 - accuracy: 0.2120\n",
            "Epoch 41/50\n",
            "126/126 [==============================] - 2s 18ms/step - loss: 3.8901 - accuracy: 0.2147\n",
            "Epoch 42/50\n",
            "126/126 [==============================] - 2s 19ms/step - loss: 3.8259 - accuracy: 0.2231\n",
            "Epoch 43/50\n",
            "126/126 [==============================] - 2s 18ms/step - loss: 3.7776 - accuracy: 0.2281\n",
            "Epoch 44/50\n",
            "126/126 [==============================] - 2s 19ms/step - loss: 3.7497 - accuracy: 0.2363\n",
            "Epoch 45/50\n",
            "126/126 [==============================] - 2s 18ms/step - loss: 3.7017 - accuracy: 0.2420\n",
            "Epoch 46/50\n",
            "126/126 [==============================] - 2s 19ms/step - loss: 3.6677 - accuracy: 0.2514\n",
            "Epoch 47/50\n",
            "126/126 [==============================] - 2s 18ms/step - loss: 3.6131 - accuracy: 0.2611\n",
            "Epoch 48/50\n",
            "126/126 [==============================] - 2s 18ms/step - loss: 3.5739 - accuracy: 0.2636\n",
            "Epoch 49/50\n",
            "126/126 [==============================] - 2s 18ms/step - loss: 3.5225 - accuracy: 0.2755\n",
            "Epoch 50/50\n",
            "126/126 [==============================] - 2s 18ms/step - loss: 3.4814 - accuracy: 0.2817\n"
          ],
          "name": "stdout"
        }
      ]
    },
    {
      "cell_type": "code",
      "metadata": {
        "id": "-CU97J4I_zX6",
        "colab_type": "code",
        "colab": {
          "base_uri": "https://localhost:8080/",
          "height": 541
        },
        "outputId": "38577bd7-b39b-4771-ebee-e6b049f436c0"
      },
      "source": [
        "plot_graphs(history, \"accuracy\")\n",
        "plot_graphs(history, \"loss\")"
      ],
      "execution_count": 21,
      "outputs": [
        {
          "output_type": "display_data",
          "data": {
            "image/png": "[encoded data removed]",
            "text/plain": [
              "<Figure size 432x288 with 1 Axes>"
            ]
          },
          "metadata": {
            "tags": [],
            "needs_background": "light"
          }
        },
        {
          "output_type": "display_data",
          "data": {
            "image/png": "[encoded data removed]",
            "text/plain": [
              "<Figure size 432x288 with 1 Axes>"
            ]
          },
          "metadata": {
            "tags": [],
            "needs_background": "light"
          }
        }
      ]
    },
    {
      "cell_type": "markdown",
      "metadata": {
        "id": "jJIt4--vA4MV",
        "colab_type": "text"
      },
      "source": [
        "The network is less underfitting, we can further improve our network by increasing the number of epochs"
      ]
    },
    {
      "cell_type": "code",
      "metadata": {
        "id": "JdxElcymBHgB",
        "colab_type": "code",
        "colab": {
          "base_uri": "https://localhost:8080/",
          "height": 1000
        },
        "outputId": "401f5ec4-72ad-4481-a623-7afd42372d41"
      },
      "source": [
        "model = tf.keras.Sequential()\n",
        "model.add(tf.keras.layers.Embedding(total_words, 64, input_length=max_sequence_len - 1))\n",
        "model.add(tf.keras.layers.Bidirectional(tf.keras.layers.LSTM(20)))\n",
        "model.add(tf.keras.layers.Dense(total_words, activation='softmax'))\n",
        "model.compile(loss='categorical_crossentropy', optimizer='adam', metrics=['accuracy'])\n",
        "history = model.fit(xs, ys, epochs=100, verbose=1)"
      ],
      "execution_count": 22,
      "outputs": [
        {
          "output_type": "stream",
          "text": [
            "Epoch 1/100\n",
            "126/126 [==============================] - 2s 18ms/step - loss: 6.5537 - accuracy: 0.0759\n",
            "Epoch 2/100\n",
            "126/126 [==============================] - 2s 18ms/step - loss: 5.9504 - accuracy: 0.0777\n",
            "Epoch 3/100\n",
            "126/126 [==============================] - 2s 18ms/step - loss: 5.8374 - accuracy: 0.0777\n",
            "Epoch 4/100\n",
            "126/126 [==============================] - 2s 17ms/step - loss: 5.7530 - accuracy: 0.0777\n",
            "Epoch 5/100\n",
            "126/126 [==============================] - 2s 18ms/step - loss: 5.6899 - accuracy: 0.0777\n",
            "Epoch 6/100\n",
            "126/126 [==============================] - 2s 19ms/step - loss: 5.6433 - accuracy: 0.0822\n",
            "Epoch 7/100\n",
            "126/126 [==============================] - 2s 19ms/step - loss: 5.6078 - accuracy: 0.0841\n",
            "Epoch 8/100\n",
            "126/126 [==============================] - 2s 17ms/step - loss: 5.5776 - accuracy: 0.0841\n",
            "Epoch 9/100\n",
            "126/126 [==============================] - 2s 18ms/step - loss: 5.5522 - accuracy: 0.0849\n",
            "Epoch 10/100\n",
            "126/126 [==============================] - 2s 18ms/step - loss: 5.5275 - accuracy: 0.0849\n",
            "Epoch 11/100\n",
            "126/126 [==============================] - 2s 18ms/step - loss: 5.5025 - accuracy: 0.0849\n",
            "Epoch 12/100\n",
            "126/126 [==============================] - 2s 18ms/step - loss: 5.4757 - accuracy: 0.0849\n",
            "Epoch 13/100\n",
            "126/126 [==============================] - 2s 19ms/step - loss: 5.4529 - accuracy: 0.0849\n",
            "Epoch 14/100\n",
            "126/126 [==============================] - 2s 18ms/step - loss: 5.4268 - accuracy: 0.0859\n",
            "Epoch 15/100\n",
            "126/126 [==============================] - 3s 26ms/step - loss: 5.4017 - accuracy: 0.0879\n",
            "Epoch 16/100\n",
            "126/126 [==============================] - 2s 18ms/step - loss: 5.3737 - accuracy: 0.0946\n",
            "Epoch 17/100\n",
            "126/126 [==============================] - 2s 18ms/step - loss: 5.3439 - accuracy: 0.1033\n",
            "Epoch 18/100\n",
            "126/126 [==============================] - 2s 18ms/step - loss: 5.3093 - accuracy: 0.1050\n",
            "Epoch 19/100\n",
            "126/126 [==============================] - 2s 18ms/step - loss: 5.2690 - accuracy: 0.1092\n",
            "Epoch 20/100\n",
            "126/126 [==============================] - 2s 19ms/step - loss: 5.2196 - accuracy: 0.1139\n",
            "Epoch 21/100\n",
            "126/126 [==============================] - 2s 19ms/step - loss: 5.1695 - accuracy: 0.1147\n",
            "Epoch 22/100\n",
            "126/126 [==============================] - 2s 18ms/step - loss: 5.1080 - accuracy: 0.1201\n",
            "Epoch 23/100\n",
            "126/126 [==============================] - 2s 18ms/step - loss: 5.0435 - accuracy: 0.1224\n",
            "Epoch 24/100\n",
            "126/126 [==============================] - 2s 18ms/step - loss: 4.9779 - accuracy: 0.1281\n",
            "Epoch 25/100\n",
            "126/126 [==============================] - 2s 18ms/step - loss: 4.9151 - accuracy: 0.1313\n",
            "Epoch 26/100\n",
            "126/126 [==============================] - 2s 19ms/step - loss: 4.8452 - accuracy: 0.1333\n",
            "Epoch 27/100\n",
            "126/126 [==============================] - 2s 18ms/step - loss: 4.7848 - accuracy: 0.1340\n",
            "Epoch 28/100\n",
            "126/126 [==============================] - 2s 18ms/step - loss: 4.7190 - accuracy: 0.1358\n",
            "Epoch 29/100\n",
            "126/126 [==============================] - 2s 18ms/step - loss: 4.6555 - accuracy: 0.1402\n",
            "Epoch 30/100\n",
            "126/126 [==============================] - 2s 18ms/step - loss: 4.5994 - accuracy: 0.1442\n",
            "Epoch 31/100\n",
            "126/126 [==============================] - 2s 18ms/step - loss: 4.5380 - accuracy: 0.1457\n",
            "Epoch 32/100\n",
            "126/126 [==============================] - 2s 19ms/step - loss: 4.4757 - accuracy: 0.1489\n",
            "Epoch 33/100\n",
            "126/126 [==============================] - 2s 20ms/step - loss: 4.4270 - accuracy: 0.1569\n",
            "Epoch 34/100\n",
            "126/126 [==============================] - 2s 20ms/step - loss: 4.3642 - accuracy: 0.1574\n",
            "Epoch 35/100\n",
            "126/126 [==============================] - 2s 19ms/step - loss: 4.3051 - accuracy: 0.1636\n",
            "Epoch 36/100\n",
            "126/126 [==============================] - 2s 18ms/step - loss: 4.2593 - accuracy: 0.1688\n",
            "Epoch 37/100\n",
            "126/126 [==============================] - 2s 19ms/step - loss: 4.1972 - accuracy: 0.1745\n",
            "Epoch 38/100\n",
            "126/126 [==============================] - 2s 19ms/step - loss: 4.1517 - accuracy: 0.1787\n",
            "Epoch 39/100\n",
            "126/126 [==============================] - 2s 18ms/step - loss: 4.1001 - accuracy: 0.1889\n",
            "Epoch 40/100\n",
            "126/126 [==============================] - 2s 18ms/step - loss: 4.0513 - accuracy: 0.1931\n",
            "Epoch 41/100\n",
            "126/126 [==============================] - 2s 18ms/step - loss: 4.0010 - accuracy: 0.1993\n",
            "Epoch 42/100\n",
            "126/126 [==============================] - 2s 18ms/step - loss: 3.9560 - accuracy: 0.2043\n",
            "Epoch 43/100\n",
            "126/126 [==============================] - 2s 19ms/step - loss: 3.9312 - accuracy: 0.2107\n",
            "Epoch 44/100\n",
            "126/126 [==============================] - 2s 18ms/step - loss: 3.8711 - accuracy: 0.2172\n",
            "Epoch 45/100\n",
            "126/126 [==============================] - 2s 18ms/step - loss: 3.8257 - accuracy: 0.2184\n",
            "Epoch 46/100\n",
            "126/126 [==============================] - 2s 18ms/step - loss: 3.7928 - accuracy: 0.2276\n",
            "Epoch 47/100\n",
            "126/126 [==============================] - 2s 18ms/step - loss: 3.7473 - accuracy: 0.2269\n",
            "Epoch 48/100\n",
            "126/126 [==============================] - 2s 19ms/step - loss: 3.7131 - accuracy: 0.2378\n",
            "Epoch 49/100\n",
            "126/126 [==============================] - 2s 19ms/step - loss: 3.6787 - accuracy: 0.2413\n",
            "Epoch 50/100\n",
            "126/126 [==============================] - 2s 19ms/step - loss: 3.6366 - accuracy: 0.2497\n",
            "Epoch 51/100\n",
            "126/126 [==============================] - 2s 19ms/step - loss: 3.5935 - accuracy: 0.2542\n",
            "Epoch 52/100\n",
            "126/126 [==============================] - 2s 19ms/step - loss: 3.5514 - accuracy: 0.2544\n",
            "Epoch 53/100\n",
            "126/126 [==============================] - 2s 19ms/step - loss: 3.5151 - accuracy: 0.2656\n",
            "Epoch 54/100\n",
            "126/126 [==============================] - 2s 19ms/step - loss: 3.4848 - accuracy: 0.2693\n",
            "Epoch 55/100\n",
            "126/126 [==============================] - 2s 19ms/step - loss: 3.4421 - accuracy: 0.2753\n",
            "Epoch 56/100\n",
            "126/126 [==============================] - 2s 18ms/step - loss: 3.4141 - accuracy: 0.2842\n",
            "Epoch 57/100\n",
            "126/126 [==============================] - 2s 18ms/step - loss: 3.3758 - accuracy: 0.2842\n",
            "Epoch 58/100\n",
            "126/126 [==============================] - 2s 18ms/step - loss: 3.3481 - accuracy: 0.2904\n",
            "Epoch 59/100\n",
            "126/126 [==============================] - 2s 19ms/step - loss: 3.3046 - accuracy: 0.2996\n",
            "Epoch 60/100\n",
            "126/126 [==============================] - 2s 18ms/step - loss: 3.2706 - accuracy: 0.3112\n",
            "Epoch 61/100\n",
            "126/126 [==============================] - 2s 18ms/step - loss: 3.2474 - accuracy: 0.3130\n",
            "Epoch 62/100\n",
            "126/126 [==============================] - 2s 18ms/step - loss: 3.2091 - accuracy: 0.3197\n",
            "Epoch 63/100\n",
            "126/126 [==============================] - 2s 18ms/step - loss: 3.1790 - accuracy: 0.3214\n",
            "Epoch 64/100\n",
            "126/126 [==============================] - 2s 19ms/step - loss: 3.1521 - accuracy: 0.3274\n",
            "Epoch 65/100\n",
            "126/126 [==============================] - 3s 20ms/step - loss: 3.1128 - accuracy: 0.3373\n",
            "Epoch 66/100\n",
            "126/126 [==============================] - 2s 18ms/step - loss: 3.0840 - accuracy: 0.3395\n",
            "Epoch 67/100\n",
            "126/126 [==============================] - 2s 18ms/step - loss: 3.0493 - accuracy: 0.3428\n",
            "Epoch 68/100\n",
            "126/126 [==============================] - 2s 19ms/step - loss: 3.0078 - accuracy: 0.3559\n",
            "Epoch 69/100\n",
            "126/126 [==============================] - 2s 18ms/step - loss: 2.9713 - accuracy: 0.3577\n",
            "Epoch 70/100\n",
            "126/126 [==============================] - 2s 19ms/step - loss: 2.9764 - accuracy: 0.3586\n",
            "Epoch 71/100\n",
            "126/126 [==============================] - 2s 19ms/step - loss: 2.9495 - accuracy: 0.3668\n",
            "Epoch 72/100\n",
            "126/126 [==============================] - 2s 19ms/step - loss: 2.9010 - accuracy: 0.3745\n",
            "Epoch 73/100\n",
            "126/126 [==============================] - 2s 19ms/step - loss: 2.8627 - accuracy: 0.3855\n",
            "Epoch 74/100\n",
            "126/126 [==============================] - 2s 18ms/step - loss: 2.8350 - accuracy: 0.3892\n",
            "Epoch 75/100\n",
            "126/126 [==============================] - 2s 19ms/step - loss: 2.8070 - accuracy: 0.3966\n",
            "Epoch 76/100\n",
            "126/126 [==============================] - 2s 19ms/step - loss: 2.7688 - accuracy: 0.3986\n",
            "Epoch 77/100\n",
            "126/126 [==============================] - 2s 18ms/step - loss: 2.7461 - accuracy: 0.4063\n",
            "Epoch 78/100\n",
            "126/126 [==============================] - 2s 19ms/step - loss: 2.7202 - accuracy: 0.4123\n",
            "Epoch 79/100\n",
            "126/126 [==============================] - 2s 19ms/step - loss: 2.6920 - accuracy: 0.4192\n",
            "Epoch 80/100\n",
            "126/126 [==============================] - 3s 22ms/step - loss: 2.6572 - accuracy: 0.4249\n",
            "Epoch 81/100\n",
            "126/126 [==============================] - 4s 36ms/step - loss: 2.6508 - accuracy: 0.4259\n",
            "Epoch 82/100\n",
            "126/126 [==============================] - 5s 38ms/step - loss: 2.6446 - accuracy: 0.4249\n",
            "Epoch 83/100\n",
            "126/126 [==============================] - 2s 19ms/step - loss: 2.5986 - accuracy: 0.4361\n",
            "Epoch 84/100\n",
            "126/126 [==============================] - 2s 19ms/step - loss: 2.5682 - accuracy: 0.4420\n",
            "Epoch 85/100\n",
            "126/126 [==============================] - 2s 18ms/step - loss: 2.5515 - accuracy: 0.4455\n",
            "Epoch 86/100\n",
            "126/126 [==============================] - 2s 18ms/step - loss: 2.5265 - accuracy: 0.4490\n",
            "Epoch 87/100\n",
            "126/126 [==============================] - 2s 18ms/step - loss: 2.4936 - accuracy: 0.4582\n",
            "Epoch 88/100\n",
            "126/126 [==============================] - 2s 18ms/step - loss: 2.4663 - accuracy: 0.4656\n",
            "Epoch 89/100\n",
            "126/126 [==============================] - 2s 18ms/step - loss: 2.4383 - accuracy: 0.4689\n",
            "Epoch 90/100\n",
            "126/126 [==============================] - 2s 18ms/step - loss: 2.4223 - accuracy: 0.4726\n",
            "Epoch 91/100\n",
            "126/126 [==============================] - 2s 18ms/step - loss: 2.3868 - accuracy: 0.4813\n",
            "Epoch 92/100\n",
            "126/126 [==============================] - 2s 19ms/step - loss: 2.3588 - accuracy: 0.4865\n",
            "Epoch 93/100\n",
            "126/126 [==============================] - 2s 19ms/step - loss: 2.3217 - accuracy: 0.4939\n",
            "Epoch 94/100\n",
            "126/126 [==============================] - 2s 18ms/step - loss: 2.3000 - accuracy: 0.4969\n",
            "Epoch 95/100\n",
            "126/126 [==============================] - 2s 19ms/step - loss: 2.2820 - accuracy: 0.5036\n",
            "Epoch 96/100\n",
            "126/126 [==============================] - 2s 18ms/step - loss: 2.2624 - accuracy: 0.5056\n",
            "Epoch 97/100\n",
            "126/126 [==============================] - 2s 18ms/step - loss: 2.2431 - accuracy: 0.5123\n",
            "Epoch 98/100\n",
            "126/126 [==============================] - 2s 19ms/step - loss: 2.2163 - accuracy: 0.5138\n",
            "Epoch 99/100\n",
            "126/126 [==============================] - 2s 18ms/step - loss: 2.1996 - accuracy: 0.5220\n",
            "Epoch 100/100\n",
            "126/126 [==============================] - 2s 19ms/step - loss: 2.1791 - accuracy: 0.5284\n"
          ],
          "name": "stdout"
        }
      ]
    },
    {
      "cell_type": "code",
      "metadata": {
        "id": "sfhVB8GpIoG0",
        "colab_type": "code",
        "colab": {
          "base_uri": "https://localhost:8080/",
          "height": 541
        },
        "outputId": "9fbf42e7-d2f3-43db-bc46-f290d887df3e"
      },
      "source": [
        "plot_graphs(history, \"accuracy\")\n",
        "plot_graphs(history, \"loss\")"
      ],
      "execution_count": 23,
      "outputs": [
        {
          "output_type": "display_data",
          "data": {
            "image/png": "[encoded data removed]",
            "text/plain": [
              "<Figure size 432x288 with 1 Axes>"
            ]
          },
          "metadata": {
            "tags": [],
            "needs_background": "light"
          }
        },
        {
          "output_type": "display_data",
          "data": {
            "image/png": "[encoded data removed]",
            "text/plain": [
              "<Figure size 432x288 with 1 Axes>"
            ]
          },
          "metadata": {
            "tags": [],
            "needs_background": "light"
          }
        }
      ]
    },
    {
      "cell_type": "code",
      "metadata": {
        "id": "0yqC2CjAIhwk",
        "colab_type": "code",
        "colab": {
          "base_uri": "https://localhost:8080/",
          "height": 34
        },
        "outputId": "63b5895d-4165-42d7-a21a-4f10c1577328"
      },
      "source": [
        "seed_text = \"towards the close\"\n",
        "next_words = 10\n",
        "\n",
        "for _ in range(next_words):\n",
        "  token_list = tokenizer.texts_to_sequences([seed_text])[0]\n",
        "  token_list = pad_sequences([token_list], maxlen=max_sequence_len - 1, padding='pre')\n",
        "  predicted = model.predict_classes(token_list, verbose=0)\n",
        "  output_word = \"\"\n",
        "  for word, index in tokenizer.word_index.items():\n",
        "    if index == predicted:\n",
        "      output_word = word\n",
        "      break\n",
        "  seed_text += \" \" + output_word\n",
        "print(seed_text)"
      ],
      "execution_count": 24,
      "outputs": [
        {
          "output_type": "stream",
          "text": [
            "towards the close of the surgeon well earned i know he is not\n"
          ],
          "name": "stdout"
        }
      ]
    },
    {
      "cell_type": "code",
      "metadata": {
        "id": "Cq-wWjQ3MigU",
        "colab_type": "code",
        "colab": {}
      },
      "source": [
        "from pickle import dump\n",
        "# it will be useful to save the model to file\n",
        "model.save('model.h5')\n",
        "# save the tokenizer\n",
        "dump(tokenizer, open('tokenizer.pkl', 'wb'))"
      ],
      "execution_count": 0,
      "outputs": []
    }
  ]
}